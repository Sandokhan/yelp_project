{
 "cells": [
  {
   "cell_type": "code",
   "execution_count": 1,
   "metadata": {},
   "outputs": [],
   "source": [
    "import pandas as pd\n",
    "import numpy as np\n",
    "import matplotlib.pyplot as plt\n",
    "import seaborn as sns\n",
    "from igraph import Graph, plot, RainbowPalette\n",
    "import cairo\n",
    "import community\n",
    "from scipy.sparse import coo_matrix"
   ]
  },
  {
   "cell_type": "code",
   "execution_count": 2,
   "metadata": {},
   "outputs": [
    {
     "name": "stdout",
     "output_type": "stream",
     "text": [
      "(404880, 9)\n"
     ]
    },
    {
     "data": {
      "text/html": [
       "<div>\n",
       "<style scoped>\n",
       "    .dataframe tbody tr th:only-of-type {\n",
       "        vertical-align: middle;\n",
       "    }\n",
       "\n",
       "    .dataframe tbody tr th {\n",
       "        vertical-align: top;\n",
       "    }\n",
       "\n",
       "    .dataframe thead th {\n",
       "        text-align: right;\n",
       "    }\n",
       "</style>\n",
       "<table border=\"1\" class=\"dataframe\">\n",
       "  <thead>\n",
       "    <tr style=\"text-align: right;\">\n",
       "      <th></th>\n",
       "      <th>review_id</th>\n",
       "      <th>user_id</th>\n",
       "      <th>business_id</th>\n",
       "      <th>stars</th>\n",
       "      <th>useful</th>\n",
       "      <th>funny</th>\n",
       "      <th>cool</th>\n",
       "      <th>text</th>\n",
       "      <th>date</th>\n",
       "    </tr>\n",
       "  </thead>\n",
       "  <tbody>\n",
       "    <tr>\n",
       "      <th>0</th>\n",
       "      <td>saUsX_uimxRlCVr67Z4Jig</td>\n",
       "      <td>8g_iMtfSiwikVnbP2etR0A</td>\n",
       "      <td>YjUWPpI6HXG530lwP-fb2A</td>\n",
       "      <td>3</td>\n",
       "      <td>0</td>\n",
       "      <td>0</td>\n",
       "      <td>0</td>\n",
       "      <td>Family diner. Had the buffet. Eclectic assortm...</td>\n",
       "      <td>2014-02-05 20:30:30</td>\n",
       "    </tr>\n",
       "    <tr>\n",
       "      <th>1</th>\n",
       "      <td>UBp0zWyH60Hmw6Fsasei7w</td>\n",
       "      <td>4Uh27DgGzsp6PqrH913giQ</td>\n",
       "      <td>otQS34_MymijPTdNBoBdCw</td>\n",
       "      <td>4</td>\n",
       "      <td>0</td>\n",
       "      <td>2</td>\n",
       "      <td>0</td>\n",
       "      <td>The bun makes the Sonoran Dog. It's like a snu...</td>\n",
       "      <td>2011-10-27 17:12:05</td>\n",
       "    </tr>\n",
       "    <tr>\n",
       "      <th>2</th>\n",
       "      <td>ymhbOMW63B_vGaRFR3XT0A</td>\n",
       "      <td>yZdAhQ_KmKuCZmbBy9YDQg</td>\n",
       "      <td>5Ce3lZksYVkCbrihqylVHQ</td>\n",
       "      <td>5</td>\n",
       "      <td>0</td>\n",
       "      <td>0</td>\n",
       "      <td>0</td>\n",
       "      <td>I just started going to Sushi Nara this month ...</td>\n",
       "      <td>2014-07-25 17:56:26</td>\n",
       "    </tr>\n",
       "    <tr>\n",
       "      <th>3</th>\n",
       "      <td>onlgwy5qGDEzddsrnIvtWg</td>\n",
       "      <td>pYXeL0RCqus2IfhthYCOyA</td>\n",
       "      <td>W7NxQw8UYFR0HLPrI08tvw</td>\n",
       "      <td>4</td>\n",
       "      <td>0</td>\n",
       "      <td>0</td>\n",
       "      <td>0</td>\n",
       "      <td>Don't know what it is but If my tummy's feelin...</td>\n",
       "      <td>2012-02-01 14:21:25</td>\n",
       "    </tr>\n",
       "    <tr>\n",
       "      <th>4</th>\n",
       "      <td>xS4qtB70SM-q7kX7smKlRg</td>\n",
       "      <td>_Y7-za074Q1sx6t6EucTwA</td>\n",
       "      <td>zt2JwrXrou8PyDELJOOA_w</td>\n",
       "      <td>1</td>\n",
       "      <td>2</td>\n",
       "      <td>1</td>\n",
       "      <td>0</td>\n",
       "      <td>OMG!!! I can't believe this kind of service ex...</td>\n",
       "      <td>2014-06-28 19:44:23</td>\n",
       "    </tr>\n",
       "  </tbody>\n",
       "</table>\n",
       "</div>"
      ],
      "text/plain": [
       "                review_id                 user_id             business_id  \\\n",
       "0  saUsX_uimxRlCVr67Z4Jig  8g_iMtfSiwikVnbP2etR0A  YjUWPpI6HXG530lwP-fb2A   \n",
       "1  UBp0zWyH60Hmw6Fsasei7w  4Uh27DgGzsp6PqrH913giQ  otQS34_MymijPTdNBoBdCw   \n",
       "2  ymhbOMW63B_vGaRFR3XT0A  yZdAhQ_KmKuCZmbBy9YDQg  5Ce3lZksYVkCbrihqylVHQ   \n",
       "3  onlgwy5qGDEzddsrnIvtWg  pYXeL0RCqus2IfhthYCOyA  W7NxQw8UYFR0HLPrI08tvw   \n",
       "4  xS4qtB70SM-q7kX7smKlRg  _Y7-za074Q1sx6t6EucTwA  zt2JwrXrou8PyDELJOOA_w   \n",
       "\n",
       "   stars  useful  funny  cool  \\\n",
       "0      3       0      0     0   \n",
       "1      4       0      2     0   \n",
       "2      5       0      0     0   \n",
       "3      4       0      0     0   \n",
       "4      1       2      1     0   \n",
       "\n",
       "                                                text                 date  \n",
       "0  Family diner. Had the buffet. Eclectic assortm...  2014-02-05 20:30:30  \n",
       "1  The bun makes the Sonoran Dog. It's like a snu...  2011-10-27 17:12:05  \n",
       "2  I just started going to Sushi Nara this month ...  2014-07-25 17:56:26  \n",
       "3  Don't know what it is but If my tummy's feelin...  2012-02-01 14:21:25  \n",
       "4  OMG!!! I can't believe this kind of service ex...  2014-06-28 19:44:23  "
      ]
     },
     "execution_count": 2,
     "metadata": {},
     "output_type": "execute_result"
    }
   ],
   "source": [
    "reviews = pd.read_csv('data/tucson_reviews.csv')\n",
    "print(reviews.shape)\n",
    "reviews.head()"
   ]
  },
  {
   "cell_type": "code",
   "execution_count": 3,
   "metadata": {},
   "outputs": [],
   "source": [
    "xpto = reviews[['user_id', 'business_id', 'stars']].sample(200).copy(deep=True)"
   ]
  },
  {
   "cell_type": "code",
   "execution_count": 4,
   "metadata": {},
   "outputs": [],
   "source": [
    "xpto2  = xpto.copy(deep=True)"
   ]
  },
  {
   "cell_type": "code",
   "execution_count": 5,
   "metadata": {},
   "outputs": [
    {
     "name": "stderr",
     "output_type": "stream",
     "text": [
      "/var/folders/1w/k9637z597nn40_dksv68jh1h0000gn/T/ipykernel_11894/4105447349.py:1: FutureWarning: In a future version of pandas all arguments of DataFrame.drop except for the argument 'labels' will be keyword-only.\n",
      "  result = xpto.assign(key=1).merge(xpto2.assign(key=1), on='key').drop('key', 1)\n"
     ]
    },
    {
     "data": {
      "text/html": [
       "<div>\n",
       "<style scoped>\n",
       "    .dataframe tbody tr th:only-of-type {\n",
       "        vertical-align: middle;\n",
       "    }\n",
       "\n",
       "    .dataframe tbody tr th {\n",
       "        vertical-align: top;\n",
       "    }\n",
       "\n",
       "    .dataframe thead th {\n",
       "        text-align: right;\n",
       "    }\n",
       "</style>\n",
       "<table border=\"1\" class=\"dataframe\">\n",
       "  <thead>\n",
       "    <tr style=\"text-align: right;\">\n",
       "      <th></th>\n",
       "      <th>user_id_x</th>\n",
       "      <th>business_id_x</th>\n",
       "      <th>stars_x</th>\n",
       "      <th>user_id_y</th>\n",
       "      <th>business_id_y</th>\n",
       "      <th>stars_y</th>\n",
       "    </tr>\n",
       "  </thead>\n",
       "  <tbody>\n",
       "    <tr>\n",
       "      <th>0</th>\n",
       "      <td>hoGUV-fkrFfurFYZcQTlWw</td>\n",
       "      <td>n5cAHwSFXhjVIJ48-LcBRA</td>\n",
       "      <td>1</td>\n",
       "      <td>hoGUV-fkrFfurFYZcQTlWw</td>\n",
       "      <td>n5cAHwSFXhjVIJ48-LcBRA</td>\n",
       "      <td>1</td>\n",
       "    </tr>\n",
       "    <tr>\n",
       "      <th>1</th>\n",
       "      <td>hoGUV-fkrFfurFYZcQTlWw</td>\n",
       "      <td>n5cAHwSFXhjVIJ48-LcBRA</td>\n",
       "      <td>1</td>\n",
       "      <td>k2kx9xXNslSVTxvQ8ZBVPQ</td>\n",
       "      <td>b5BsyP6CCrkHUSexsOvd1A</td>\n",
       "      <td>1</td>\n",
       "    </tr>\n",
       "    <tr>\n",
       "      <th>2</th>\n",
       "      <td>hoGUV-fkrFfurFYZcQTlWw</td>\n",
       "      <td>n5cAHwSFXhjVIJ48-LcBRA</td>\n",
       "      <td>1</td>\n",
       "      <td>WyvvWRCCHizctkFdGWz72A</td>\n",
       "      <td>bfpwNZp1TprfhORDNh6iTw</td>\n",
       "      <td>1</td>\n",
       "    </tr>\n",
       "    <tr>\n",
       "      <th>3</th>\n",
       "      <td>hoGUV-fkrFfurFYZcQTlWw</td>\n",
       "      <td>n5cAHwSFXhjVIJ48-LcBRA</td>\n",
       "      <td>1</td>\n",
       "      <td>E3R01ki3iaic1nonV83yng</td>\n",
       "      <td>OLv_9dEcUGLq6AasZuloQw</td>\n",
       "      <td>5</td>\n",
       "    </tr>\n",
       "    <tr>\n",
       "      <th>4</th>\n",
       "      <td>hoGUV-fkrFfurFYZcQTlWw</td>\n",
       "      <td>n5cAHwSFXhjVIJ48-LcBRA</td>\n",
       "      <td>1</td>\n",
       "      <td>TTQSDF3vSlUFWifiRYInpQ</td>\n",
       "      <td>89h8yJNnYEs5MiRogltPJw</td>\n",
       "      <td>3</td>\n",
       "    </tr>\n",
       "  </tbody>\n",
       "</table>\n",
       "</div>"
      ],
      "text/plain": [
       "                user_id_x           business_id_x  stars_x  \\\n",
       "0  hoGUV-fkrFfurFYZcQTlWw  n5cAHwSFXhjVIJ48-LcBRA        1   \n",
       "1  hoGUV-fkrFfurFYZcQTlWw  n5cAHwSFXhjVIJ48-LcBRA        1   \n",
       "2  hoGUV-fkrFfurFYZcQTlWw  n5cAHwSFXhjVIJ48-LcBRA        1   \n",
       "3  hoGUV-fkrFfurFYZcQTlWw  n5cAHwSFXhjVIJ48-LcBRA        1   \n",
       "4  hoGUV-fkrFfurFYZcQTlWw  n5cAHwSFXhjVIJ48-LcBRA        1   \n",
       "\n",
       "                user_id_y           business_id_y  stars_y  \n",
       "0  hoGUV-fkrFfurFYZcQTlWw  n5cAHwSFXhjVIJ48-LcBRA        1  \n",
       "1  k2kx9xXNslSVTxvQ8ZBVPQ  b5BsyP6CCrkHUSexsOvd1A        1  \n",
       "2  WyvvWRCCHizctkFdGWz72A  bfpwNZp1TprfhORDNh6iTw        1  \n",
       "3  E3R01ki3iaic1nonV83yng  OLv_9dEcUGLq6AasZuloQw        5  \n",
       "4  TTQSDF3vSlUFWifiRYInpQ  89h8yJNnYEs5MiRogltPJw        3  "
      ]
     },
     "execution_count": 5,
     "metadata": {},
     "output_type": "execute_result"
    }
   ],
   "source": [
    "result = xpto.assign(key=1).merge(xpto2.assign(key=1), on='key').drop('key', 1)\n",
    "result.head()"
   ]
  },
  {
   "cell_type": "code",
   "execution_count": 6,
   "metadata": {},
   "outputs": [
    {
     "data": {
      "text/html": [
       "<div>\n",
       "<style scoped>\n",
       "    .dataframe tbody tr th:only-of-type {\n",
       "        vertical-align: middle;\n",
       "    }\n",
       "\n",
       "    .dataframe tbody tr th {\n",
       "        vertical-align: top;\n",
       "    }\n",
       "\n",
       "    .dataframe thead th {\n",
       "        text-align: right;\n",
       "    }\n",
       "</style>\n",
       "<table border=\"1\" class=\"dataframe\">\n",
       "  <thead>\n",
       "    <tr style=\"text-align: right;\">\n",
       "      <th></th>\n",
       "      <th>user_id_x</th>\n",
       "      <th>business_id_x</th>\n",
       "      <th>stars_x</th>\n",
       "      <th>user_id_y</th>\n",
       "      <th>business_id_y</th>\n",
       "      <th>stars_y</th>\n",
       "    </tr>\n",
       "  </thead>\n",
       "  <tbody>\n",
       "    <tr>\n",
       "      <th>10965</th>\n",
       "      <td>lHqA_D7nAK9xw_Xg08dM_w</td>\n",
       "      <td>2cpdYwMOeKQtiMDvm39nKg</td>\n",
       "      <td>5</td>\n",
       "      <td>lHqA_D7nAK9xw_Xg08dM_w</td>\n",
       "      <td>wm23rnUccF_3en3NSN7afw</td>\n",
       "      <td>5</td>\n",
       "    </tr>\n",
       "    <tr>\n",
       "      <th>11091</th>\n",
       "      <td>iJdknUsOPUDA2BTfTVE1Hg</td>\n",
       "      <td>h8TJV8clolcjqp9aFV4OjQ</td>\n",
       "      <td>4</td>\n",
       "      <td>iJdknUsOPUDA2BTfTVE1Hg</td>\n",
       "      <td>14QP5lOdrTAVVCDDuHIAUg</td>\n",
       "      <td>5</td>\n",
       "    </tr>\n",
       "    <tr>\n",
       "      <th>18255</th>\n",
       "      <td>iJdknUsOPUDA2BTfTVE1Hg</td>\n",
       "      <td>14QP5lOdrTAVVCDDuHIAUg</td>\n",
       "      <td>5</td>\n",
       "      <td>iJdknUsOPUDA2BTfTVE1Hg</td>\n",
       "      <td>h8TJV8clolcjqp9aFV4OjQ</td>\n",
       "      <td>4</td>\n",
       "    </tr>\n",
       "    <tr>\n",
       "      <th>24363</th>\n",
       "      <td>IFGpr5r7qR9v1ef3MCKbHw</td>\n",
       "      <td>p-pp2F_iClEKk0wybXAaxg</td>\n",
       "      <td>2</td>\n",
       "      <td>IFGpr5r7qR9v1ef3MCKbHw</td>\n",
       "      <td>LZzDvgfpkd4nI3E4L9wF1w</td>\n",
       "      <td>3</td>\n",
       "    </tr>\n",
       "    <tr>\n",
       "      <th>32721</th>\n",
       "      <td>IFGpr5r7qR9v1ef3MCKbHw</td>\n",
       "      <td>LZzDvgfpkd4nI3E4L9wF1w</td>\n",
       "      <td>3</td>\n",
       "      <td>IFGpr5r7qR9v1ef3MCKbHw</td>\n",
       "      <td>p-pp2F_iClEKk0wybXAaxg</td>\n",
       "      <td>2</td>\n",
       "    </tr>\n",
       "  </tbody>\n",
       "</table>\n",
       "</div>"
      ],
      "text/plain": [
       "                    user_id_x           business_id_x  stars_x  \\\n",
       "10965  lHqA_D7nAK9xw_Xg08dM_w  2cpdYwMOeKQtiMDvm39nKg        5   \n",
       "11091  iJdknUsOPUDA2BTfTVE1Hg  h8TJV8clolcjqp9aFV4OjQ        4   \n",
       "18255  iJdknUsOPUDA2BTfTVE1Hg  14QP5lOdrTAVVCDDuHIAUg        5   \n",
       "24363  IFGpr5r7qR9v1ef3MCKbHw  p-pp2F_iClEKk0wybXAaxg        2   \n",
       "32721  IFGpr5r7qR9v1ef3MCKbHw  LZzDvgfpkd4nI3E4L9wF1w        3   \n",
       "\n",
       "                    user_id_y           business_id_y  stars_y  \n",
       "10965  lHqA_D7nAK9xw_Xg08dM_w  wm23rnUccF_3en3NSN7afw        5  \n",
       "11091  iJdknUsOPUDA2BTfTVE1Hg  14QP5lOdrTAVVCDDuHIAUg        5  \n",
       "18255  iJdknUsOPUDA2BTfTVE1Hg  h8TJV8clolcjqp9aFV4OjQ        4  \n",
       "24363  IFGpr5r7qR9v1ef3MCKbHw  LZzDvgfpkd4nI3E4L9wF1w        3  \n",
       "32721  IFGpr5r7qR9v1ef3MCKbHw  p-pp2F_iClEKk0wybXAaxg        2  "
      ]
     },
     "execution_count": 6,
     "metadata": {},
     "output_type": "execute_result"
    }
   ],
   "source": [
    "result[(result.user_id_x == result.user_id_y) & (result.business_id_x != result.business_id_y)].head()"
   ]
  },
  {
   "cell_type": "code",
   "execution_count": null,
   "metadata": {},
   "outputs": [],
   "source": []
  },
  {
   "cell_type": "code",
   "execution_count": null,
   "metadata": {},
   "outputs": [],
   "source": []
  },
  {
   "cell_type": "code",
   "execution_count": null,
   "metadata": {},
   "outputs": [],
   "source": []
  },
  {
   "cell_type": "code",
   "execution_count": null,
   "metadata": {},
   "outputs": [],
   "source": []
  },
  {
   "cell_type": "code",
   "execution_count": null,
   "metadata": {},
   "outputs": [],
   "source": [
    "x2.columns = ['user_id', 'business_id', 'stars', 'user_id2', 'business_id2', 'stars2']"
   ]
  },
  {
   "cell_type": "code",
   "execution_count": null,
   "metadata": {},
   "outputs": [],
   "source": [
    "x2.head()"
   ]
  },
  {
   "cell_type": "code",
   "execution_count": null,
   "metadata": {},
   "outputs": [],
   "source": [
    "x3 = x2[x2['user_id'] == x2['user_id2']]"
   ]
  },
  {
   "cell_type": "code",
   "execution_count": null,
   "metadata": {},
   "outputs": [],
   "source": [
    "x3[x3['business_id'] != x3['business_id2']].head()"
   ]
  },
  {
   "cell_type": "code",
   "execution_count": null,
   "metadata": {},
   "outputs": [],
   "source": [
    "pd.crosstab(x3['business_id'], x3['business_id2'])"
   ]
  },
  {
   "cell_type": "code",
   "execution_count": null,
   "metadata": {},
   "outputs": [],
   "source": []
  },
  {
   "cell_type": "code",
   "execution_count": null,
   "metadata": {},
   "outputs": [],
   "source": [
    "reviews_greater = reviews.groupby('business_id').filter(lambda x: len(x) > 1000)\n",
    "print(reviews_greater.shape)\n",
    "reviews_greater.head()"
   ]
  },
  {
   "cell_type": "code",
   "execution_count": null,
   "metadata": {},
   "outputs": [],
   "source": [
    "reviews_greater['date'] = pd.to_datetime(reviews_greater['date'])"
   ]
  },
  {
   "cell_type": "code",
   "execution_count": null,
   "metadata": {},
   "outputs": [],
   "source": [
    "reviews_greater['year'] = reviews_greater['date'].dt.year\n",
    "reviews_greater.year.value_counts().sort_index()"
   ]
  },
  {
   "cell_type": "code",
   "execution_count": null,
   "metadata": {},
   "outputs": [],
   "source": [
    "reviews_2020 = reviews_greater[reviews_greater.year == 2020].reset_index(drop=True).copy(deep=True)\n",
    "reviews_2020.head()"
   ]
  },
  {
   "cell_type": "code",
   "execution_count": null,
   "metadata": {},
   "outputs": [],
   "source": [
    "xpto = pd.crosstab(reviews_2020['user_id'], reviews_2020['business_id'])\n",
    "xpto.head()"
   ]
  },
  {
   "cell_type": "code",
   "execution_count": null,
   "metadata": {},
   "outputs": [],
   "source": [
    "xx = pd.pivot_table(reviews_2020, values='stars', index=['user_id'], columns=['business_id'])\n",
    "xx.head()"
   ]
  },
  {
   "cell_type": "code",
   "execution_count": null,
   "metadata": {},
   "outputs": [],
   "source": [
    "xx.to_csv('data/xx.csv')"
   ]
  },
  {
   "cell_type": "code",
   "execution_count": null,
   "metadata": {},
   "outputs": [],
   "source": []
  },
  {
   "cell_type": "code",
   "execution_count": null,
   "metadata": {},
   "outputs": [],
   "source": []
  },
  {
   "cell_type": "code",
   "execution_count": null,
   "metadata": {},
   "outputs": [],
   "source": [
    "print(f\" Unique business: {len(set(reviews_greater['business_id']))}\")\n",
    "print(f\" Unique users: {len(set(reviews_greater['user_id']))}\")\n",
    "print(f\" Unique reviews: {len(set(reviews_greater['review_id']))}\")"
   ]
  },
  {
   "cell_type": "code",
   "execution_count": null,
   "metadata": {},
   "outputs": [],
   "source": [
    "g = Graph(directed=False)\n",
    "\n",
    "# Add vertices\n",
    "g.add_vertices(reviews_greater['business_id'].unique())\n",
    "g.add_vertices(reviews_greater['user_id'].unique())\n",
    "\n",
    "# Add edges\n",
    "g.add_edges(zip(reviews_greater['business_id'], reviews_greater['user_id']))\n",
    "\n",
    "# Set attributes\n",
    "g.vs['type'] = ['business'] * len(set(reviews_greater['business_id'])) + ['user'] * len(set(reviews_greater['user_id']))\n",
    "\n",
    "# Plot graph\n",
    "visual_style = {}\n",
    "visual_style[\"vertex_size\"] = 5\n",
    "# visual_style[\"vertex_label\"] = g.vs[\"name\"]\n",
    "# visual_style[\"vertex_label_dist\"] = 1\n",
    "# visual_style[\"vertex_label_size\"] = 5\n",
    "visual_style[\"edge_width\"] = 0.5\n",
    "visual_style[\"layout\"] = g.layout(\"kk\")\n",
    "visual_style[\"bbox\"] = (800, 800)\n",
    "visual_style[\"margin\"] = 100\n",
    "visual_style[\"edge_arrow_size\"] = 0.5\n",
    "visual_style[\"edge_arrow_width\"] = 0.5\n",
    "visual_style[\"edge_curved\"] = False\n",
    "visual_style[\"vertex_color\"] = [\"red\" if v == \"business\" else \"blue\" for v in g.vs[\"type\"]]\n",
    "visual_style[\"vertex_frame_color\"] = \"black\"\n",
    "visual_style[\"vertex_label_color\"] = \"black\"\n",
    "visual_style[\"edge_color\"] = \"grey\"\n",
    "visual_style[\"edge_curved\"] = False\n",
    "visual_style[\"edge_arrow_size\"] = 0.5\n",
    "visual_style[\"edge_arrow_width\"] = 0.5\n",
    "\n",
    "# increase the business vertex size\n",
    "visual_style[\"vertex_size\"] = [10 if v == \"business\" else 5 for v in g.vs[\"type\"]]\n",
    "\n",
    "\n",
    "plot(g, **visual_style)"
   ]
  },
  {
   "cell_type": "code",
   "execution_count": null,
   "metadata": {},
   "outputs": [],
   "source": [
    "# Detect communities using Louvain\n",
    "communities = g.community_multilevel()\n",
    "\n",
    "# Find the top 5 communities\n",
    "top_communities = communities.subgraphs()\n",
    "\n",
    "# plot the best community\n",
    "plot(top_communities[0], **visual_style)\n",
    "\n"
   ]
  },
  {
   "cell_type": "code",
   "execution_count": null,
   "metadata": {},
   "outputs": [],
   "source": [
    "# plot the second best community\n",
    "plot(top_communities[1], **visual_style)"
   ]
  },
  {
   "cell_type": "code",
   "execution_count": null,
   "metadata": {},
   "outputs": [],
   "source": [
    "# print the number of communities\n",
    "print(f\"Number of communities: {len(top_communities)}\")"
   ]
  },
  {
   "cell_type": "code",
   "execution_count": null,
   "metadata": {},
   "outputs": [],
   "source": [
    "users = pd.read_csv('data/tucson_users.csv')\n",
    "users.head()"
   ]
  },
  {
   "cell_type": "code",
   "execution_count": null,
   "metadata": {},
   "outputs": [],
   "source": [
    "users.columns"
   ]
  },
  {
   "cell_type": "code",
   "execution_count": null,
   "metadata": {},
   "outputs": [],
   "source": [
    "reviews_2020.business_id.unique()"
   ]
  },
  {
   "cell_type": "code",
   "execution_count": null,
   "metadata": {},
   "outputs": [],
   "source": [
    "reviews_2020.user_id.unique()"
   ]
  }
 ],
 "metadata": {
  "kernelspec": {
   "display_name": "base",
   "language": "python",
   "name": "python3"
  },
  "language_info": {
   "codemirror_mode": {
    "name": "ipython",
    "version": 3
   },
   "file_extension": ".py",
   "mimetype": "text/x-python",
   "name": "python",
   "nbconvert_exporter": "python",
   "pygments_lexer": "ipython3",
   "version": "3.9.13"
  },
  "orig_nbformat": 4
 },
 "nbformat": 4,
 "nbformat_minor": 2
}
