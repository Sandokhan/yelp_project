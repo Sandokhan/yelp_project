{
 "cells": [
  {
   "cell_type": "code",
   "execution_count": null,
   "metadata": {},
   "outputs": [],
   "source": [
    "import pandas as pd\n",
    "import numpy as np\n",
    "import matplotlib.pyplot as plt\n",
    "import seaborn as sns\n",
    "from igraph import Graph, plot, RainbowPalette\n",
    "import cairo"
   ]
  },
  {
   "cell_type": "code",
   "execution_count": null,
   "metadata": {},
   "outputs": [],
   "source": [
    "def load_data(file_path, chunksize=100000):\n",
    "    \"\"\"Load the data into a DataFrame in chunks.\"\"\"\n",
    "    all_data = pd.DataFrame()\n",
    "    for chunk in pd.read_json(file_path, lines=True, chunksize=chunksize):\n",
    "        all_data = pd.concat([all_data, chunk])\n",
    "    return all_data"
   ]
  },
  {
   "cell_type": "markdown",
   "metadata": {},
   "source": [
    "### Take atention\n",
    "\n",
    "To load both `datasets/yelp_academic_dataset_user.json` and `datasets/yelp_academic_dataset_review.json` use the function bellow, the others you may use `pd.read_json` straight forward."
   ]
  },
  {
   "cell_type": "code",
   "execution_count": null,
   "metadata": {},
   "outputs": [],
   "source": [
    "business = pd.read_json('datasets/yelp_academic_dataset_business.json', lines=True)"
   ]
  },
  {
   "cell_type": "code",
   "execution_count": null,
   "metadata": {},
   "outputs": [],
   "source": [
    "users = load_data('datasets/yelp_academic_dataset_user.json')"
   ]
  },
  {
   "cell_type": "code",
   "execution_count": null,
   "metadata": {},
   "outputs": [],
   "source": [
    "reviews = load_data('datasets/yelp_academic_dataset_review.json')"
   ]
  },
  {
   "cell_type": "code",
   "execution_count": null,
   "metadata": {},
   "outputs": [],
   "source": [
    "print(f\"user shape: {users.shape}\")\n",
    "print(f\"review shape: {reviews.shape}\")\n",
    "print(f\"business shape: {business.shape}\")"
   ]
  },
  {
   "cell_type": "code",
   "execution_count": null,
   "metadata": {},
   "outputs": [],
   "source": [
    "tucson_df = business[business['city'] == 'Tucson'].copy(deep=True)\n",
    "print(f\"tucson shape: {tucson_df.shape}\")"
   ]
  },
  {
   "cell_type": "code",
   "execution_count": null,
   "metadata": {},
   "outputs": [],
   "source": [
    "tucson_df.head()"
   ]
  },
  {
   "cell_type": "code",
   "execution_count": null,
   "metadata": {},
   "outputs": [],
   "source": [
    "reviews_df = reviews[reviews['business_id'].isin(tucson_df['business_id'])].copy(deep=True)\n",
    "print(f\"reviews shape: {reviews_df.shape}\")"
   ]
  },
  {
   "cell_type": "code",
   "execution_count": null,
   "metadata": {},
   "outputs": [],
   "source": [
    "users_df = users[users['user_id'].isin(reviews_df['user_id'])].copy(deep=True)\n",
    "print(f\"users shape: {users_df.shape}\")"
   ]
  },
  {
   "cell_type": "code",
   "execution_count": null,
   "metadata": {},
   "outputs": [],
   "source": [
    "# Save the data\n",
    "# tucson_df.to_csv('data/tucson_business.csv', index=False)\n",
    "# reviews_df.to_csv('data/tucson_reviews.csv', index=False)\n",
    "# users_df.to_csv('data/tucson_users.csv', index=False)"
   ]
  },
  {
   "cell_type": "markdown",
   "metadata": {},
   "source": [
    "# Start here"
   ]
  },
  {
   "cell_type": "code",
   "execution_count": null,
   "metadata": {},
   "outputs": [],
   "source": [
    "review_tucs = pd.read_csv('data/tucson_reviews.csv')\n",
    "review_tucs.head()"
   ]
  },
  {
   "cell_type": "code",
   "execution_count": null,
   "metadata": {},
   "outputs": [],
   "source": [
    "tucson_df = pd.read_csv('data/tucson_business.csv')\n",
    "tucson_df.head()"
   ]
  },
  {
   "cell_type": "code",
   "execution_count": null,
   "metadata": {},
   "outputs": [],
   "source": [
    "print(tucson_df[tucson_df['categories'].str.contains('Restaurants|Restaurant|restaurants|restaurant', regex=True) == True].shape)\n",
    "restaurants_df = tucson_df[tucson_df['categories'].str.contains('Restaurants|Restaurant|restaurants|restaurant', regex=True) == True].reset_index(drop=True).copy(deep=True)"
   ]
  },
  {
   "cell_type": "code",
   "execution_count": null,
   "metadata": {},
   "outputs": [],
   "source": [
    "reviews_rest_df = review_tucs[review_tucs['business_id'].isin(restaurants_df['business_id'])].reset_index(drop=True).copy(deep=True)\n",
    "print(f\"reviews shape: {reviews_rest_df.shape}\")\n",
    "reviews_rest_df.head()"
   ]
  },
  {
   "cell_type": "code",
   "execution_count": null,
   "metadata": {},
   "outputs": [],
   "source": [
    "g = Graph(directed=False)"
   ]
  },
  {
   "cell_type": "code",
   "execution_count": null,
   "metadata": {},
   "outputs": [],
   "source": [
    "unique_users = reviews_rest_df['user_id'].unique()\n",
    "unique_business = reviews_rest_df['business_id'].unique()\n",
    "unique_reviews = reviews_rest_df['review_id'].unique()\n",
    "\n",
    "g.add_vertices(unique_users)\n",
    "g.add_vertices(unique_business)\n",
    "g.add_vertices(unique_reviews)\n",
    "\n",
    "g.vs['type'] = ['user'] * len(unique_users) + ['business'] * len(unique_business) + ['review'] * len(unique_reviews)\n",
    "\n",
    "g.add_edges([(user, review) for user, review in zip(reviews_rest_df['user_id'], reviews_rest_df['review_id'])])\n",
    "\n",
    "g.add_edges([(review, business) for review, business in zip(reviews_rest_df['review_id'], reviews_rest_df['business_id'])])"
   ]
  },
  {
   "cell_type": "code",
   "execution_count": null,
   "metadata": {},
   "outputs": [],
   "source": [
    "communities = g.community_multilevel()\n",
    "\n",
    "print(f\"Number of communities: {len(communities)}\")"
   ]
  },
  {
   "cell_type": "code",
   "execution_count": null,
   "metadata": {},
   "outputs": [],
   "source": [
    "layout = g.layout(\"fr\")\n",
    "\n",
    "plot(g, layout=layout, vertex_size=10, vertex_label_size=8, vertex_label_dist=1, edge_arrow_size=0.5, bbox=(800, 800))\n",
    "\n"
   ]
  },
  {
   "cell_type": "code",
   "execution_count": null,
   "metadata": {},
   "outputs": [],
   "source": [
    "plot(communities, layout=layout, vertex_size=5, vertex_label_size=5, bbox=(1000, 1000), margin=100, palette=RainbowPalette(n=len(communities)))"
   ]
  },
  {
   "cell_type": "code",
   "execution_count": null,
   "metadata": {},
   "outputs": [],
   "source": [
    "layout = g.layout(\"fr\")\n",
    "plot(g, layout=layout, vertex_size=10, vertex_label_size=8, vertex_label_dist=1, edge_arrow_size=0.5, bbox=(800, 800))\n"
   ]
  }
 ],
 "metadata": {
  "kernelspec": {
   "display_name": "base",
   "language": "python",
   "name": "python3"
  },
  "language_info": {
   "codemirror_mode": {
    "name": "ipython",
    "version": 3
   },
   "file_extension": ".py",
   "mimetype": "text/x-python",
   "name": "python",
   "nbconvert_exporter": "python",
   "pygments_lexer": "ipython3",
   "version": "3.9.13"
  },
  "orig_nbformat": 4
 },
 "nbformat": 4,
 "nbformat_minor": 2
}
