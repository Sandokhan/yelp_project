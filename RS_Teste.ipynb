{
 "cells": [
  {
   "cell_type": "code",
   "execution_count": 1,
   "id": "initial_id",
   "metadata": {
    "collapsed": true,
    "ExecuteTime": {
     "end_time": "2023-10-01T16:43:26.546712900Z",
     "start_time": "2023-10-01T16:43:26.530624600Z"
    }
   },
   "outputs": [],
   "source": [
    "# !pip install tqdm"
   ]
  },
  {
   "cell_type": "code",
   "execution_count": 4,
   "outputs": [],
   "source": [
    "import pandas as pd\n",
    "import tarfile\n",
    "from tqdm import tqdm, tqdm_notebook, tnrange\n",
    "import json\n",
    "import numpy as np\n",
    "import time\n",
    "from copy import deepcopy"
   ],
   "metadata": {
    "collapsed": false,
    "ExecuteTime": {
     "end_time": "2023-10-01T16:47:28.198361Z",
     "start_time": "2023-10-01T16:47:28.182728300Z"
    }
   },
   "id": "e7538409b4c33560"
  },
  {
   "cell_type": "code",
   "execution_count": 5,
   "outputs": [],
   "source": [
    "## The restaurants in the five candidate cities\n",
    "df_res_bus = pd.read_csv('../datasets/filter_data_sando/tucson_business.csv', index_col= None)\n",
    "### reviews in the top ten candidate cities\n",
    "reviews = pd.read_csv('../datasets/filter_data_sando/tucson_reviews.csv')\n",
    "users = pd.read_csv('../datasets/filter_data_sando/tucson_users.csv')"
   ],
   "metadata": {
    "collapsed": false,
    "ExecuteTime": {
     "end_time": "2023-10-01T16:47:32.345751700Z",
     "start_time": "2023-10-01T16:47:30.443444700Z"
    }
   },
   "id": "c169db1ae9d571f1"
  },
  {
   "cell_type": "code",
   "execution_count": 6,
   "outputs": [
    {
     "data": {
      "text/plain": "              business_id                      name  \\\n0  f82dhKNiUXsDVPMLqKYiIQ             Sher-e-Punjab   \n1  Y3ZCO17N1_T_Ms1JmswwzA    Taqueria Pico De Gallo   \n2  lhsQkb5nhf-Kd5OvgB9MNg             Sachiko Sushi   \n3  XyGRDrgCK0z4CiA6nhwEaw  Persian Room Fine Dining   \n4  -3-6BB10tIWNKGEF0Es2BA     The 81 Hong Kong Cafe   \n\n                         address    city state  postal_code   latitude  \\\n0              853 East Grant Rd  Tucson    AZ        85719  32.250960   \n1                 2618 S 6th Ave  Tucson    AZ        85713  32.192017   \n2             3210 E Valencia Rd  Tucson    AZ        85706  32.133679   \n3  9290 N Thornydale Rd, Ste 100  Tucson    AZ        85742  32.375016   \n4      625 E Wetmore Rd, Ste 109  Tucson    AZ        85705  32.288540   \n\n    longitude  stars  review_count  is_open  \\\n0 -110.959158    4.0           446        1   \n1 -110.968540    4.0           397        1   \n2 -110.923443    3.5           191        1   \n3 -111.046320    4.5           258        1   \n4 -110.963144    4.0           133        1   \n\n                                          attributes  \\\n0  {'RestaurantsAttire': \"'casual'\", 'BusinessAcc...   \n1  {'RestaurantsGoodForGroups': 'True', 'Caters':...   \n2  {'RestaurantsPriceRange2': '2', 'BusinessAccep...   \n3  {'Alcohol': \"'full_bar'\", 'GoodForMeal': \"{'de...   \n4  {'Alcohol': \"u'none'\", 'DogsAllowed': 'False',...   \n\n                                          categories  \\\n0  Restaurants, Salad, Pakistani, Indian, Cocktai...   \n1                               Mexican, Restaurants   \n2                  Japanese, Restaurants, Sushi Bars   \n3        Restaurants, Persian/Iranian, Mediterranean   \n4  Coffee & Tea, Asian Fusion, Food, Bubble Tea, ...   \n\n                                               hours  \n0  {'Tuesday': '16:0-21:0', 'Wednesday': '16:0-21...  \n1  {'Monday': '9:0-21:0', 'Tuesday': '9:0-21:0', ...  \n2  {'Monday': '11:0-20:0', 'Tuesday': '11:0-20:0'...  \n3  {'Monday': '11:0-21:30', 'Tuesday': '11:0-21:3...  \n4  {'Monday': '0:0-0:0', 'Wednesday': '10:0-21:0'...  ",
      "text/html": "<div>\n<style scoped>\n    .dataframe tbody tr th:only-of-type {\n        vertical-align: middle;\n    }\n\n    .dataframe tbody tr th {\n        vertical-align: top;\n    }\n\n    .dataframe thead th {\n        text-align: right;\n    }\n</style>\n<table border=\"1\" class=\"dataframe\">\n  <thead>\n    <tr style=\"text-align: right;\">\n      <th></th>\n      <th>business_id</th>\n      <th>name</th>\n      <th>address</th>\n      <th>city</th>\n      <th>state</th>\n      <th>postal_code</th>\n      <th>latitude</th>\n      <th>longitude</th>\n      <th>stars</th>\n      <th>review_count</th>\n      <th>is_open</th>\n      <th>attributes</th>\n      <th>categories</th>\n      <th>hours</th>\n    </tr>\n  </thead>\n  <tbody>\n    <tr>\n      <th>0</th>\n      <td>f82dhKNiUXsDVPMLqKYiIQ</td>\n      <td>Sher-e-Punjab</td>\n      <td>853 East Grant Rd</td>\n      <td>Tucson</td>\n      <td>AZ</td>\n      <td>85719</td>\n      <td>32.250960</td>\n      <td>-110.959158</td>\n      <td>4.0</td>\n      <td>446</td>\n      <td>1</td>\n      <td>{'RestaurantsAttire': \"'casual'\", 'BusinessAcc...</td>\n      <td>Restaurants, Salad, Pakistani, Indian, Cocktai...</td>\n      <td>{'Tuesday': '16:0-21:0', 'Wednesday': '16:0-21...</td>\n    </tr>\n    <tr>\n      <th>1</th>\n      <td>Y3ZCO17N1_T_Ms1JmswwzA</td>\n      <td>Taqueria Pico De Gallo</td>\n      <td>2618 S 6th Ave</td>\n      <td>Tucson</td>\n      <td>AZ</td>\n      <td>85713</td>\n      <td>32.192017</td>\n      <td>-110.968540</td>\n      <td>4.0</td>\n      <td>397</td>\n      <td>1</td>\n      <td>{'RestaurantsGoodForGroups': 'True', 'Caters':...</td>\n      <td>Mexican, Restaurants</td>\n      <td>{'Monday': '9:0-21:0', 'Tuesday': '9:0-21:0', ...</td>\n    </tr>\n    <tr>\n      <th>2</th>\n      <td>lhsQkb5nhf-Kd5OvgB9MNg</td>\n      <td>Sachiko Sushi</td>\n      <td>3210 E Valencia Rd</td>\n      <td>Tucson</td>\n      <td>AZ</td>\n      <td>85706</td>\n      <td>32.133679</td>\n      <td>-110.923443</td>\n      <td>3.5</td>\n      <td>191</td>\n      <td>1</td>\n      <td>{'RestaurantsPriceRange2': '2', 'BusinessAccep...</td>\n      <td>Japanese, Restaurants, Sushi Bars</td>\n      <td>{'Monday': '11:0-20:0', 'Tuesday': '11:0-20:0'...</td>\n    </tr>\n    <tr>\n      <th>3</th>\n      <td>XyGRDrgCK0z4CiA6nhwEaw</td>\n      <td>Persian Room Fine Dining</td>\n      <td>9290 N Thornydale Rd, Ste 100</td>\n      <td>Tucson</td>\n      <td>AZ</td>\n      <td>85742</td>\n      <td>32.375016</td>\n      <td>-111.046320</td>\n      <td>4.5</td>\n      <td>258</td>\n      <td>1</td>\n      <td>{'Alcohol': \"'full_bar'\", 'GoodForMeal': \"{'de...</td>\n      <td>Restaurants, Persian/Iranian, Mediterranean</td>\n      <td>{'Monday': '11:0-21:30', 'Tuesday': '11:0-21:3...</td>\n    </tr>\n    <tr>\n      <th>4</th>\n      <td>-3-6BB10tIWNKGEF0Es2BA</td>\n      <td>The 81 Hong Kong Cafe</td>\n      <td>625 E Wetmore Rd, Ste 109</td>\n      <td>Tucson</td>\n      <td>AZ</td>\n      <td>85705</td>\n      <td>32.288540</td>\n      <td>-110.963144</td>\n      <td>4.0</td>\n      <td>133</td>\n      <td>1</td>\n      <td>{'Alcohol': \"u'none'\", 'DogsAllowed': 'False',...</td>\n      <td>Coffee &amp; Tea, Asian Fusion, Food, Bubble Tea, ...</td>\n      <td>{'Monday': '0:0-0:0', 'Wednesday': '10:0-21:0'...</td>\n    </tr>\n  </tbody>\n</table>\n</div>"
     },
     "execution_count": 6,
     "metadata": {},
     "output_type": "execute_result"
    }
   ],
   "source": [
    "df_res_bus.head()"
   ],
   "metadata": {
    "collapsed": false,
    "ExecuteTime": {
     "end_time": "2023-10-01T16:47:34.608823700Z",
     "start_time": "2023-10-01T16:47:34.593160200Z"
    }
   },
   "id": "acfc65879c217ddf"
  },
  {
   "cell_type": "code",
   "execution_count": 7,
   "outputs": [
    {
     "data": {
      "text/plain": "                review_id                 user_id             business_id  \\\n0  UBp0zWyH60Hmw6Fsasei7w  4Uh27DgGzsp6PqrH913giQ  otQS34_MymijPTdNBoBdCw   \n1  ymhbOMW63B_vGaRFR3XT0A  yZdAhQ_KmKuCZmbBy9YDQg  5Ce3lZksYVkCbrihqylVHQ   \n2  ypFqmURIY41F4pWaMW1VrQ  hToW2eoTAYlOcuNz7I73Cg  7L1kXfwU5XM6f6Jxo_L7Yg   \n3  M7h8K7PrLrN8yQb3RhHLdA  CysTz612pTix75Fye6-D4Q  WLiqfxv_GhFFA5sm878a2w   \n4  _u331rYIp7qJ7aWvLup9Ug  BUpAhzsbbKbTqyBjT8YnNQ  wa_bwyY57etHjtJ2Fw0E3g   \n\n   stars  useful  funny  cool  \\\n0      4       0      2     0   \n1      5       0      0     0   \n2      5       1      0     0   \n3      5       0      1     1   \n4      5       0      0     0   \n\n                                                text                 date  \n0  The bun makes the Sonoran Dog. It's like a snu...  2011-10-27 17:12:05  \n1  I just started going to Sushi Nara this month ...  2014-07-25 17:56:26  \n2  We've been coming here since I was a kid. The ...  2015-07-03 22:36:04  \n3  Blew $80 on food for the family was worth it f...  2013-12-29 03:15:34  \n4  Called in a Mediterranean chicken shawarma. Go...  2014-04-01 05:00:09  ",
      "text/html": "<div>\n<style scoped>\n    .dataframe tbody tr th:only-of-type {\n        vertical-align: middle;\n    }\n\n    .dataframe tbody tr th {\n        vertical-align: top;\n    }\n\n    .dataframe thead th {\n        text-align: right;\n    }\n</style>\n<table border=\"1\" class=\"dataframe\">\n  <thead>\n    <tr style=\"text-align: right;\">\n      <th></th>\n      <th>review_id</th>\n      <th>user_id</th>\n      <th>business_id</th>\n      <th>stars</th>\n      <th>useful</th>\n      <th>funny</th>\n      <th>cool</th>\n      <th>text</th>\n      <th>date</th>\n    </tr>\n  </thead>\n  <tbody>\n    <tr>\n      <th>0</th>\n      <td>UBp0zWyH60Hmw6Fsasei7w</td>\n      <td>4Uh27DgGzsp6PqrH913giQ</td>\n      <td>otQS34_MymijPTdNBoBdCw</td>\n      <td>4</td>\n      <td>0</td>\n      <td>2</td>\n      <td>0</td>\n      <td>The bun makes the Sonoran Dog. It's like a snu...</td>\n      <td>2011-10-27 17:12:05</td>\n    </tr>\n    <tr>\n      <th>1</th>\n      <td>ymhbOMW63B_vGaRFR3XT0A</td>\n      <td>yZdAhQ_KmKuCZmbBy9YDQg</td>\n      <td>5Ce3lZksYVkCbrihqylVHQ</td>\n      <td>5</td>\n      <td>0</td>\n      <td>0</td>\n      <td>0</td>\n      <td>I just started going to Sushi Nara this month ...</td>\n      <td>2014-07-25 17:56:26</td>\n    </tr>\n    <tr>\n      <th>2</th>\n      <td>ypFqmURIY41F4pWaMW1VrQ</td>\n      <td>hToW2eoTAYlOcuNz7I73Cg</td>\n      <td>7L1kXfwU5XM6f6Jxo_L7Yg</td>\n      <td>5</td>\n      <td>1</td>\n      <td>0</td>\n      <td>0</td>\n      <td>We've been coming here since I was a kid. The ...</td>\n      <td>2015-07-03 22:36:04</td>\n    </tr>\n    <tr>\n      <th>3</th>\n      <td>M7h8K7PrLrN8yQb3RhHLdA</td>\n      <td>CysTz612pTix75Fye6-D4Q</td>\n      <td>WLiqfxv_GhFFA5sm878a2w</td>\n      <td>5</td>\n      <td>0</td>\n      <td>1</td>\n      <td>1</td>\n      <td>Blew $80 on food for the family was worth it f...</td>\n      <td>2013-12-29 03:15:34</td>\n    </tr>\n    <tr>\n      <th>4</th>\n      <td>_u331rYIp7qJ7aWvLup9Ug</td>\n      <td>BUpAhzsbbKbTqyBjT8YnNQ</td>\n      <td>wa_bwyY57etHjtJ2Fw0E3g</td>\n      <td>5</td>\n      <td>0</td>\n      <td>0</td>\n      <td>0</td>\n      <td>Called in a Mediterranean chicken shawarma. Go...</td>\n      <td>2014-04-01 05:00:09</td>\n    </tr>\n  </tbody>\n</table>\n</div>"
     },
     "execution_count": 7,
     "metadata": {},
     "output_type": "execute_result"
    }
   ],
   "source": [
    "reviews.head()"
   ],
   "metadata": {
    "collapsed": false,
    "ExecuteTime": {
     "end_time": "2023-10-01T16:47:38.870439900Z",
     "start_time": "2023-10-01T16:47:38.849614300Z"
    }
   },
   "id": "873c21c96297c555"
  },
  {
   "cell_type": "code",
   "execution_count": 8,
   "outputs": [
    {
     "data": {
      "text/plain": "                  user_id     name  review_count        yelping_since  useful  \\\n0  AUi8MPWJ0mLkMfwbui27lg     John           109  2010-01-07 18:32:04     154   \n1  x7YtLnBW2dUnrrpwaofVQQ  Ronskee            37  2010-05-06 00:40:56      56   \n2  XLs_PhrJ7Qwn_RfgMM7Djw    Weili            90  2009-07-12 14:34:54      71   \n3  QJI9OSEn6ujRCtrX06vs1w        J          1982  2007-03-19 18:15:32   14004   \n4  KXZ8A8h7Q9ZJRU5TM9asjw   Joanne           102  2010-03-20 17:40:40     150   \n\n   funny  cool elite                                            friends  fans  \\\n0     20    23   NaN  gy5fWeSv3Gamuq9Ox4MV4g, lMr3LWU6kPFLTmCpDkACxg...     4   \n1     29    29   NaN  EPBLDry-ObheloH-NuvbvQ, 0GHsxjCk-Ynzx4Ihj8tjPQ...     9   \n2     21    19   NaN  gTX68_Us2eI2KjY21aOQ7g, e4nHt3ErihX7II-MHXVM1w...     1   \n3   6466  9879  2010  RyPeT_ICAtX8ah9dhDpEFw, W8r4aKPZFT3GPIQQDbqB6Q...   316   \n4     42    30   NaN  2N4UPgpSHFYJ1OZ0WcvTEQ, JgZ1-9Ii2wCzHE2ylZb6qQ...     7   \n\n   ...  compliment_more  compliment_profile  compliment_cute  compliment_list  \\\n0  ...                0                   0                0                0   \n1  ...                1                   0                0                0   \n2  ...                0                   0                0                0   \n3  ...               98                 156               52               68   \n4  ...                0                   0                0                0   \n\n   compliment_note  compliment_plain  compliment_cool  compliment_funny  \\\n0                1                 6                3                 3   \n1               12                33               66                66   \n2                1                 3                0                 0   \n3              786              3674             2093              2093   \n4                5                 6                2                 2   \n\n   compliment_writer  compliment_photos  \n0                  0                  0  \n1                  1                 12  \n2                  0                  0  \n3                562               1509  \n4                  0                  2  \n\n[5 rows x 22 columns]",
      "text/html": "<div>\n<style scoped>\n    .dataframe tbody tr th:only-of-type {\n        vertical-align: middle;\n    }\n\n    .dataframe tbody tr th {\n        vertical-align: top;\n    }\n\n    .dataframe thead th {\n        text-align: right;\n    }\n</style>\n<table border=\"1\" class=\"dataframe\">\n  <thead>\n    <tr style=\"text-align: right;\">\n      <th></th>\n      <th>user_id</th>\n      <th>name</th>\n      <th>review_count</th>\n      <th>yelping_since</th>\n      <th>useful</th>\n      <th>funny</th>\n      <th>cool</th>\n      <th>elite</th>\n      <th>friends</th>\n      <th>fans</th>\n      <th>...</th>\n      <th>compliment_more</th>\n      <th>compliment_profile</th>\n      <th>compliment_cute</th>\n      <th>compliment_list</th>\n      <th>compliment_note</th>\n      <th>compliment_plain</th>\n      <th>compliment_cool</th>\n      <th>compliment_funny</th>\n      <th>compliment_writer</th>\n      <th>compliment_photos</th>\n    </tr>\n  </thead>\n  <tbody>\n    <tr>\n      <th>0</th>\n      <td>AUi8MPWJ0mLkMfwbui27lg</td>\n      <td>John</td>\n      <td>109</td>\n      <td>2010-01-07 18:32:04</td>\n      <td>154</td>\n      <td>20</td>\n      <td>23</td>\n      <td>NaN</td>\n      <td>gy5fWeSv3Gamuq9Ox4MV4g, lMr3LWU6kPFLTmCpDkACxg...</td>\n      <td>4</td>\n      <td>...</td>\n      <td>0</td>\n      <td>0</td>\n      <td>0</td>\n      <td>0</td>\n      <td>1</td>\n      <td>6</td>\n      <td>3</td>\n      <td>3</td>\n      <td>0</td>\n      <td>0</td>\n    </tr>\n    <tr>\n      <th>1</th>\n      <td>x7YtLnBW2dUnrrpwaofVQQ</td>\n      <td>Ronskee</td>\n      <td>37</td>\n      <td>2010-05-06 00:40:56</td>\n      <td>56</td>\n      <td>29</td>\n      <td>29</td>\n      <td>NaN</td>\n      <td>EPBLDry-ObheloH-NuvbvQ, 0GHsxjCk-Ynzx4Ihj8tjPQ...</td>\n      <td>9</td>\n      <td>...</td>\n      <td>1</td>\n      <td>0</td>\n      <td>0</td>\n      <td>0</td>\n      <td>12</td>\n      <td>33</td>\n      <td>66</td>\n      <td>66</td>\n      <td>1</td>\n      <td>12</td>\n    </tr>\n    <tr>\n      <th>2</th>\n      <td>XLs_PhrJ7Qwn_RfgMM7Djw</td>\n      <td>Weili</td>\n      <td>90</td>\n      <td>2009-07-12 14:34:54</td>\n      <td>71</td>\n      <td>21</td>\n      <td>19</td>\n      <td>NaN</td>\n      <td>gTX68_Us2eI2KjY21aOQ7g, e4nHt3ErihX7II-MHXVM1w...</td>\n      <td>1</td>\n      <td>...</td>\n      <td>0</td>\n      <td>0</td>\n      <td>0</td>\n      <td>0</td>\n      <td>1</td>\n      <td>3</td>\n      <td>0</td>\n      <td>0</td>\n      <td>0</td>\n      <td>0</td>\n    </tr>\n    <tr>\n      <th>3</th>\n      <td>QJI9OSEn6ujRCtrX06vs1w</td>\n      <td>J</td>\n      <td>1982</td>\n      <td>2007-03-19 18:15:32</td>\n      <td>14004</td>\n      <td>6466</td>\n      <td>9879</td>\n      <td>2010</td>\n      <td>RyPeT_ICAtX8ah9dhDpEFw, W8r4aKPZFT3GPIQQDbqB6Q...</td>\n      <td>316</td>\n      <td>...</td>\n      <td>98</td>\n      <td>156</td>\n      <td>52</td>\n      <td>68</td>\n      <td>786</td>\n      <td>3674</td>\n      <td>2093</td>\n      <td>2093</td>\n      <td>562</td>\n      <td>1509</td>\n    </tr>\n    <tr>\n      <th>4</th>\n      <td>KXZ8A8h7Q9ZJRU5TM9asjw</td>\n      <td>Joanne</td>\n      <td>102</td>\n      <td>2010-03-20 17:40:40</td>\n      <td>150</td>\n      <td>42</td>\n      <td>30</td>\n      <td>NaN</td>\n      <td>2N4UPgpSHFYJ1OZ0WcvTEQ, JgZ1-9Ii2wCzHE2ylZb6qQ...</td>\n      <td>7</td>\n      <td>...</td>\n      <td>0</td>\n      <td>0</td>\n      <td>0</td>\n      <td>0</td>\n      <td>5</td>\n      <td>6</td>\n      <td>2</td>\n      <td>2</td>\n      <td>0</td>\n      <td>2</td>\n    </tr>\n  </tbody>\n</table>\n<p>5 rows × 22 columns</p>\n</div>"
     },
     "execution_count": 8,
     "metadata": {},
     "output_type": "execute_result"
    }
   ],
   "source": [
    "users.head()"
   ],
   "metadata": {
    "collapsed": false,
    "ExecuteTime": {
     "end_time": "2023-10-01T16:47:40.262589900Z",
     "start_time": "2023-10-01T16:47:40.234206900Z"
    }
   },
   "id": "9e09f6c23ac9f6f2"
  },
  {
   "cell_type": "markdown",
   "source": [
    "Train Test Split"
   ],
   "metadata": {
    "collapsed": false
   },
   "id": "55b1495aab196eb5"
  },
  {
   "cell_type": "code",
   "execution_count": 9,
   "outputs": [],
   "source": [
    "SAMPLING_RATE = 1/5"
   ],
   "metadata": {
    "collapsed": false,
    "ExecuteTime": {
     "end_time": "2023-10-01T16:53:34.470524300Z",
     "start_time": "2023-10-01T16:53:34.438855900Z"
    }
   },
   "id": "e860f160caeefe9f"
  },
  {
   "cell_type": "code",
   "execution_count": 20,
   "outputs": [
    {
     "data": {
      "text/plain": "                review_id                 user_id             business_id  \\\n0  chtDBb_3unH0Wcs3W2Iahw  gSp5C3BfIVAHdH27rzoCDQ  RhuYqAT45uIR2NNdDsolXQ   \n1  PeI3zaEKhNS2lEya-HgiXA  gSp5C3BfIVAHdH27rzoCDQ  U3aNQ5DsABPYyJQolsCbJg   \n2  XImtk866ERU81M8uDJH0xw  gSp5C3BfIVAHdH27rzoCDQ  WbA5ud4InNWkizW7HE5kRQ   \n3  fEQX7X9EWsZXYJnRRsQzvw  gSp5C3BfIVAHdH27rzoCDQ  sr5A1frZiTRediG8FLEkdw   \n4  o3ecI64RRJq47Crn7l9esg  gSp5C3BfIVAHdH27rzoCDQ  AVBqx8FaXza6x-bb_FLOTQ   \n\n   stars  useful  funny  cool  \\\n0      5       1      0     1   \n1      5       2      1     1   \n2      5       0      0     0   \n3      1       3      1     0   \n4      4       0      0     0   \n\n                                                text                 date  \n0  Some of the finest Mexican food I've had. The ...  2017-07-18 18:47:24  \n1  A friend took me here for a birthday dinner. T...  2016-10-15 04:45:14  \n2  Pence is a great place for a casual dinner or ...  2016-11-06 06:14:08  \n3  I live near this restaurant and decided to try...  2016-10-22 16:26:36  \n4  Anita's is excellent! The popovers are very go...  2017-07-18 18:44:39  ",
      "text/html": "<div>\n<style scoped>\n    .dataframe tbody tr th:only-of-type {\n        vertical-align: middle;\n    }\n\n    .dataframe tbody tr th {\n        vertical-align: top;\n    }\n\n    .dataframe thead th {\n        text-align: right;\n    }\n</style>\n<table border=\"1\" class=\"dataframe\">\n  <thead>\n    <tr style=\"text-align: right;\">\n      <th></th>\n      <th>review_id</th>\n      <th>user_id</th>\n      <th>business_id</th>\n      <th>stars</th>\n      <th>useful</th>\n      <th>funny</th>\n      <th>cool</th>\n      <th>text</th>\n      <th>date</th>\n    </tr>\n  </thead>\n  <tbody>\n    <tr>\n      <th>0</th>\n      <td>chtDBb_3unH0Wcs3W2Iahw</td>\n      <td>gSp5C3BfIVAHdH27rzoCDQ</td>\n      <td>RhuYqAT45uIR2NNdDsolXQ</td>\n      <td>5</td>\n      <td>1</td>\n      <td>0</td>\n      <td>1</td>\n      <td>Some of the finest Mexican food I've had. The ...</td>\n      <td>2017-07-18 18:47:24</td>\n    </tr>\n    <tr>\n      <th>1</th>\n      <td>PeI3zaEKhNS2lEya-HgiXA</td>\n      <td>gSp5C3BfIVAHdH27rzoCDQ</td>\n      <td>U3aNQ5DsABPYyJQolsCbJg</td>\n      <td>5</td>\n      <td>2</td>\n      <td>1</td>\n      <td>1</td>\n      <td>A friend took me here for a birthday dinner. T...</td>\n      <td>2016-10-15 04:45:14</td>\n    </tr>\n    <tr>\n      <th>2</th>\n      <td>XImtk866ERU81M8uDJH0xw</td>\n      <td>gSp5C3BfIVAHdH27rzoCDQ</td>\n      <td>WbA5ud4InNWkizW7HE5kRQ</td>\n      <td>5</td>\n      <td>0</td>\n      <td>0</td>\n      <td>0</td>\n      <td>Pence is a great place for a casual dinner or ...</td>\n      <td>2016-11-06 06:14:08</td>\n    </tr>\n    <tr>\n      <th>3</th>\n      <td>fEQX7X9EWsZXYJnRRsQzvw</td>\n      <td>gSp5C3BfIVAHdH27rzoCDQ</td>\n      <td>sr5A1frZiTRediG8FLEkdw</td>\n      <td>1</td>\n      <td>3</td>\n      <td>1</td>\n      <td>0</td>\n      <td>I live near this restaurant and decided to try...</td>\n      <td>2016-10-22 16:26:36</td>\n    </tr>\n    <tr>\n      <th>4</th>\n      <td>o3ecI64RRJq47Crn7l9esg</td>\n      <td>gSp5C3BfIVAHdH27rzoCDQ</td>\n      <td>AVBqx8FaXza6x-bb_FLOTQ</td>\n      <td>4</td>\n      <td>0</td>\n      <td>0</td>\n      <td>0</td>\n      <td>Anita's is excellent! The popovers are very go...</td>\n      <td>2017-07-18 18:44:39</td>\n    </tr>\n  </tbody>\n</table>\n</div>"
     },
     "execution_count": 20,
     "metadata": {},
     "output_type": "execute_result"
    }
   ],
   "source": [
    "# Downsample by users\n",
    "user_id_unique = reviews.user_id.unique()\n",
    "user_id_sample = pd.DataFrame(user_id_unique, columns=['unique_user_id']) \\\n",
    "    .sample(frac= SAMPLING_RATE, replace=False, random_state=1)\n",
    "\n",
    "reviews_sample = reviews.merge(user_id_sample, left_on='user_id', right_on='unique_user_id') \\\n",
    "   .drop(['unique_user_id'], axis=1)\n",
    "reviews_sample.head()\n",
    "#print(reviews_sample.shape)"
   ],
   "metadata": {
    "collapsed": false,
    "ExecuteTime": {
     "end_time": "2023-10-01T17:11:14.367759300Z",
     "start_time": "2023-10-01T17:11:14.260882400Z"
    }
   },
   "id": "45af3e7f9ed6f8ac"
  },
  {
   "cell_type": "code",
   "execution_count": 21,
   "outputs": [
    {
     "name": "stdout",
     "output_type": "stream",
     "text": [
      "There are 19947 rows, 9 columns in training set.\n",
      "There are 3109 rows, 9 columns in training set.\n",
      "There are 3109 rows, 9 columns in holdout set.\n"
     ]
    }
   ],
   "source": [
    "# hold out last review\n",
    "reviews_user_date = reviews_sample.loc[:, ['user_id', 'date']]\n",
    "reviews_user_date.date = pd.to_datetime(reviews_user_date.date)\n",
    "index_holdout = reviews_user_date.groupby(['user_id'], sort=False)['date'].transform(max) == reviews_user_date['date']\n",
    "reviews_holdout_ = reviews_sample[index_holdout]\n",
    "reviews_traincv_ = reviews_sample[~index_holdout]\n",
    "\n",
    "reviews_user_date = reviews_traincv_.loc[:, ['user_id', 'date']]\n",
    "index_holdout = reviews_user_date.groupby(['user_id'], sort=False)['date'].transform(max) == reviews_user_date['date']\n",
    "reviews_cv_ = reviews_traincv_[index_holdout]\n",
    "reviews_train_ = reviews_traincv_[~index_holdout]\n",
    "\n",
    "# remove the user that has fake reviews \n",
    "\n",
    "cv_users_del = set(reviews_cv_.user_id) - set(reviews_train_.user_id)\n",
    "holdout_users_del = set(reviews_holdout_.user_id) - set(reviews_train_.user_id)\n",
    "reviews_cv_ = reviews_cv_[~reviews_cv_.user_id.isin(cv_users_del)]\n",
    "reviews_holdout_ = reviews_holdout_[~reviews_holdout_.user_id.isin(holdout_users_del)]\n",
    "\n",
    "# ratings_cv_ = ratings_cv_[~ratings_cv_.user_id.isin(['HiT9sg9pvDiEVMFHJYihXg'])]\n",
    "# ratings_holdout_ = ratings_holdout_[~ratings_holdout_.user_id.isin(['HiT9sg9pvDiEVMFHJYihXg'])]\n",
    "\n",
    "print('There are {0} rows, {1} columns in training set.'.format(reviews_train_.shape[0], reviews_train_.shape[1]))\n",
    "print('There are {0} rows, {1} columns in training set.'.format(reviews_cv_.shape[0], reviews_cv_.shape[1]))\n",
    "print('There are {0} rows, {1} columns in holdout set.'.format(reviews_holdout_.shape[0], reviews_holdout_.shape[1]))\n"
   ],
   "metadata": {
    "collapsed": false,
    "ExecuteTime": {
     "end_time": "2023-10-01T17:14:27.860129600Z",
     "start_time": "2023-10-01T17:14:27.387121700Z"
    }
   },
   "id": "bb29e53840ad54bc"
  },
  {
   "cell_type": "code",
   "execution_count": 22,
   "outputs": [
    {
     "name": "stdout",
     "output_type": "stream",
     "text": [
      "3109\n"
     ]
    }
   ],
   "source": [
    "# check if we have a enough user sample size (> 50000)\n",
    "number_of_unique_users = len(reviews_train_.user_id.unique())\n",
    "print(number_of_unique_users)"
   ],
   "metadata": {
    "collapsed": false,
    "ExecuteTime": {
     "end_time": "2023-10-01T17:15:06.374081900Z",
     "start_time": "2023-10-01T17:15:06.360576800Z"
    }
   },
   "id": "5fdb63b333729311"
  },
  {
   "cell_type": "code",
   "execution_count": 23,
   "outputs": [],
   "source": [
    "def process(df):\n",
    "    df['date']  = pd.to_datetime(df['date'])\n",
    "    df['week_day'] = df['date'].dt.weekday\n",
    "    df['month'] = df['date'].dt.month\n",
    "    df['hour'] = df['date'].dt.hour\n",
    "    df = df.merge(users, on = 'user_id')\n",
    "    df = df.merge(df_res_bus, on = 'business_id')\n",
    "    rename_dict = {'business_longitude': 'longitude', 'business_latitude': 'latitude',\n",
    "                   'business_state':'state','business_city':'city', 'business_address': 'address'}\n",
    "    df = df.rename(columns = rename_dict)\n",
    "    return df\n",
    "\n",
    "reviews_train = process(reviews_train_.copy())\n",
    "reviews_holdout = process(reviews_holdout_.copy())\n",
    "reviews_val = process(reviews_cv_.copy())"
   ],
   "metadata": {
    "collapsed": false,
    "ExecuteTime": {
     "end_time": "2023-10-01T17:23:58.749256600Z",
     "start_time": "2023-10-01T17:23:58.529513100Z"
    }
   },
   "id": "754921a4e14ee377"
  },
  {
   "cell_type": "code",
   "execution_count": 36,
   "outputs": [
    {
     "ename": "NameError",
     "evalue": "name 'df' is not defined",
     "output_type": "error",
     "traceback": [
      "\u001B[1;31m---------------------------------------------------------------------------\u001B[0m",
      "\u001B[1;31mNameError\u001B[0m                                 Traceback (most recent call last)",
      "\u001B[1;32m~\\AppData\\Local\\Temp\\ipykernel_5680\\1793760910.py\u001B[0m in \u001B[0;36m<module>\u001B[1;34m\u001B[0m\n\u001B[1;32m----> 1\u001B[1;33m \u001B[0mdf\u001B[0m\u001B[1;33m.\u001B[0m\u001B[0mhead\u001B[0m\u001B[1;33m(\u001B[0m\u001B[1;33m)\u001B[0m\u001B[1;33m\u001B[0m\u001B[1;33m\u001B[0m\u001B[0m\n\u001B[0m",
      "\u001B[1;31mNameError\u001B[0m: name 'df' is not defined"
     ]
    }
   ],
   "source": [],
   "metadata": {
    "collapsed": false,
    "ExecuteTime": {
     "end_time": "2023-10-01T17:37:39.951752100Z",
     "start_time": "2023-10-01T17:37:39.923576400Z"
    }
   },
   "id": "89455f4b29f8750d"
  },
  {
   "cell_type": "code",
   "execution_count": 28,
   "outputs": [
    {
     "name": "stderr",
     "output_type": "stream",
     "text": [
      "C:\\Users\\joaqu\\AppData\\Local\\Temp\\ipykernel_5680\\2588244626.py:1: FutureWarning: The frame.append method is deprecated and will be removed from pandas in a future version. Use pandas.concat instead.\n",
      "  reviews_train_final = reviews_train.append(reviews_val)\n",
      "C:\\Users\\joaqu\\AppData\\Local\\Temp\\ipykernel_5680\\2588244626.py:2: FutureWarning: The frame.append method is deprecated and will be removed from pandas in a future version. Use pandas.concat instead.\n",
      "  reviews_entire_df = reviews_train.append(reviews_val).append(reviews_holdout)\n",
      "C:\\Users\\joaqu\\AppData\\Local\\Temp\\ipykernel_5680\\2588244626.py:2: FutureWarning: The frame.append method is deprecated and will be removed from pandas in a future version. Use pandas.concat instead.\n",
      "  reviews_entire_df = reviews_train.append(reviews_val).append(reviews_holdout)\n"
     ]
    }
   ],
   "source": [
    "reviews_train_final = reviews_train.append(reviews_val)\n",
    "reviews_entire_df = reviews_train.append(reviews_val).append(reviews_holdout)"
   ],
   "metadata": {
    "collapsed": false,
    "ExecuteTime": {
     "end_time": "2023-10-01T17:26:11.915053200Z",
     "start_time": "2023-10-01T17:26:11.868134500Z"
    }
   },
   "id": "b1b354337efc105c"
  },
  {
   "cell_type": "code",
   "execution_count": 37,
   "outputs": [
    {
     "name": "stderr",
     "output_type": "stream",
     "text": [
      "C:\\Users\\joaqu\\AppData\\Local\\Temp\\ipykernel_5680\\996852651.py:13: FutureWarning: The frame.append method is deprecated and will be removed from pandas in a future version. Use pandas.concat instead.\n",
      "  out = out.append(row)\n"
     ]
    }
   ],
   "source": [
    "unique_city_businesses = reviews_entire_df[['city','business_id']].drop_duplicates()\n",
    "unique_cities = unique_city_businesses.groupby('city').count()['business_id']\n",
    "#unique_cities = unique_cities[unique_cities > 100]\n",
    "out = pd.DataFrame()\n",
    "for city in unique_cities.index:\n",
    "    tmp = reviews_holdout[(reviews_holdout['city'] ==city) &\n",
    "                          (reviews_holdout['stars_x'] >reviews_holdout['average_stars'])]\n",
    "    if len(tmp['user_id'].unique())>4:\n",
    "\n",
    "        ###this weird sampling technique is to ensure we dont' sample the same user twice in a same city\n",
    "        five_users = np.random.choice(tmp['user_id'].unique(),5, replace = False)\n",
    "        row = tmp[tmp['user_id'].isin(five_users)].groupby('user_id', group_keys=False).apply(lambda df: df.sample(1))\n",
    "        out = out.append(row)"
   ],
   "metadata": {
    "collapsed": false,
    "ExecuteTime": {
     "end_time": "2023-10-01T17:37:55.348332100Z",
     "start_time": "2023-10-01T17:37:55.317071800Z"
    }
   },
   "id": "a17ec39d6ec31012"
  },
  {
   "cell_type": "code",
   "execution_count": 38,
   "outputs": [],
   "source": [
    "predict_df = out[['user_id','city','state']]\n",
    "predict_df = predict_df.merge(unique_city_businesses, on = 'city')\n",
    "predict_df.to_csv('../datasets/filter_data_sando/metric_sample.csv')"
   ],
   "metadata": {
    "collapsed": false,
    "ExecuteTime": {
     "end_time": "2023-10-01T17:38:04.626623400Z",
     "start_time": "2023-10-01T17:38:04.594947100Z"
    }
   },
   "id": "70b9828696faf642"
  },
  {
   "cell_type": "code",
   "execution_count": 39,
   "outputs": [],
   "source": [
    "# random initialization, needs to be substituted by actual predictions later.\n",
    "predict_df['predictions'] = 2.5"
   ],
   "metadata": {
    "collapsed": false,
    "ExecuteTime": {
     "end_time": "2023-10-01T17:38:06.492600500Z",
     "start_time": "2023-10-01T17:38:06.476965500Z"
    }
   },
   "id": "97ddee1fdf88dbb7"
  },
  {
   "cell_type": "code",
   "execution_count": 40,
   "outputs": [],
   "source": [
    "def get_all_metrics(predict_df, validation_subsample, ratings_train_final):\n",
    "    top_10_recs = predict_df.groupby(['user_id','city'])['predictions'].nlargest(10).reset_index()\n",
    "    out = validation_subsample\n",
    "    cnt =0\n",
    "    serendipity = 0\n",
    "\n",
    "\n",
    "    for row in out.iterrows():\n",
    "        row_values = row[1]\n",
    "        top_10 = predict_df.loc[top_10_recs[top_10_recs['user_id'] == row_values['user_id']].level_2]['business_id']\n",
    "        ###In top 10\n",
    "        if row_values['business_id'] in top_10.values:\n",
    "            cnt+=1\n",
    "        user_history = ratings_train_final[ratings_train_final['user_id'] == row_values['user_id']]\n",
    "        been_there = [i for i in top_10.values if i in  user_history.business_id.values]\n",
    "        serendipity += 1-len(been_there)/10\n",
    "\n",
    "    top_10 = cnt/len(out)\n",
    "    serendipity = serendipity/len(out)\n",
    "\n",
    "    predict_df = predict_df.reset_index()\n",
    "\n",
    "    analysis_df = predict_df.merge(top_10_recs, left_on = ['user_id','city','index'], \\\n",
    "                                   right_on = ['user_id','city','level_2'])\n",
    "\n",
    "    coverage = (analysis_df.groupby('city')['business_id'].nunique()/50).values.mean()\n",
    "\n",
    "    predict_df['rankings']=predict_df.groupby(['city','user_id'])['predictions']. \\\n",
    "        rank(method=\"first\",ascending = False)\n",
    "    running_rankings =0\n",
    "    for row in out.iterrows():\n",
    "        row_values = row[1]\n",
    "        user_recs = predict_df[(predict_df['user_id']==row_values['user_id'])\n",
    "                               &(predict_df['city']==row_values['city'])\n",
    "                               & (predict_df['business_id']==row_values['business_id'])\n",
    "                               ]\n",
    "        assert len(user_recs)==1\n",
    "        running_rankings += user_recs['rankings'].sum()\n",
    "\n",
    "    avg_rank = running_rankings / len(out)\n",
    "    print(top_10, coverage, serendipity, avg_rank)\n",
    "\n",
    "    return top_10, coverage, serendipity, avg_rank\n"
   ],
   "metadata": {
    "collapsed": false,
    "ExecuteTime": {
     "end_time": "2023-10-01T17:38:08.186670200Z",
     "start_time": "2023-10-01T17:38:08.155386300Z"
    }
   },
   "id": "efbc80be8bc1dcf4"
  },
  {
   "cell_type": "markdown",
   "source": [
    "Baseline models\n",
    "Baseline 1: Bias Baseline"
   ],
   "metadata": {
    "collapsed": false
   },
   "id": "fdcc85d3c0e57f08"
  },
  {
   "cell_type": "code",
   "execution_count": 41,
   "outputs": [
    {
     "name": "stdout",
     "output_type": "stream",
     "text": [
      "Defaulting to user installation because normal site-packages is not writeable\n",
      "Requirement already satisfied: scikit-surprise in c:\\programdata\\anaconda3\\lib\\site-packages (1.1.1)\n",
      "Requirement already satisfied: joblib>=0.11 in c:\\programdata\\anaconda3\\lib\\site-packages (from scikit-surprise) (1.1.0)\n",
      "Requirement already satisfied: numpy>=1.11.2 in c:\\programdata\\anaconda3\\lib\\site-packages (from scikit-surprise) (1.21.5)\n",
      "Requirement already satisfied: scipy>=1.0.0 in c:\\programdata\\anaconda3\\lib\\site-packages (from scikit-surprise) (1.9.1)\n",
      "Requirement already satisfied: six>=1.10.0 in c:\\programdata\\anaconda3\\lib\\site-packages (from scikit-surprise) (1.16.0)\n"
     ]
    }
   ],
   "source": [
    "#!pip install scikit-surprise"
   ],
   "metadata": {
    "collapsed": false,
    "ExecuteTime": {
     "end_time": "2023-10-01T17:38:56.915730Z",
     "start_time": "2023-10-01T17:38:53.601458300Z"
    }
   },
   "id": "efd2dfde2ac4c9e8"
  },
  {
   "cell_type": "code",
   "execution_count": 42,
   "outputs": [],
   "source": [
    "from surprise import SVD\n",
    "from surprise import accuracy\n",
    "from surprise import Reader\n",
    "from surprise.model_selection import GridSearchCV\n",
    "from surprise import Dataset\n",
    "from surprise import BaselineOnly\n",
    "\n",
    "from sklearn.metrics import r2_score\n",
    "from sklearn.metrics import mean_absolute_error"
   ],
   "metadata": {
    "collapsed": false,
    "ExecuteTime": {
     "end_time": "2023-10-01T17:39:14.858645900Z",
     "start_time": "2023-10-01T17:39:14.715503200Z"
    }
   },
   "id": "6bce4e9a1be2c300"
  },
  {
   "cell_type": "code",
   "execution_count": 46,
   "outputs": [],
   "source": [
    "def process(df):\n",
    "    df['date']  = pd.to_datetime(df['date'])\n",
    "    df['week_day'] = df['date'].dt.weekday\n",
    "    df['month'] = df['date'].dt.month\n",
    "    df['hour'] = df['date'].dt.hour\n",
    "    df = df.merge(users, on = 'user_id')\n",
    "    df = df.merge(df_res_bus, on = 'business_id')\n",
    "    rename_dict = {'business_longitude': 'longitude', 'business_latitude': 'latitude',\n",
    "                   'business_state':'state','business_city':'city', 'business_address': 'address'}\n",
    "    df = df.rename(columns = rename_dict)\n",
    "    return df\n",
    "\n",
    "reviews_train = process(reviews_train_.copy())\n",
    "reviews_test = process(reviews_holdout_.copy())\n",
    "reviews_val = process(reviews_cv_.copy())"
   ],
   "metadata": {
    "collapsed": false,
    "ExecuteTime": {
     "end_time": "2023-10-01T17:42:44.351030900Z",
     "start_time": "2023-10-01T17:42:44.163591900Z"
    }
   },
   "id": "70bc4806c7a325cc"
  },
  {
   "cell_type": "code",
   "execution_count": 47,
   "outputs": [],
   "source": [
    "# remove observations that may cause cold-start problem, which breaks the model.\n",
    "reviews_test = reviews_test.loc[reviews_test.business_id.isin(reviews_train.business_id)]\n",
    "reviews_val = reviews_val.loc[reviews_val.business_id.isin(reviews_train.business_id)]"
   ],
   "metadata": {
    "collapsed": false,
    "ExecuteTime": {
     "end_time": "2023-10-01T17:42:45.184329800Z",
     "start_time": "2023-10-01T17:42:45.168697800Z"
    }
   },
   "id": "36f646f32928b3c4"
  },
  {
   "cell_type": "code",
   "execution_count": 48,
   "outputs": [],
   "source": [
    "trainset = reviews_train.loc[:,['user_id', 'business_id', 'stars_x']]\n",
    "trainset.columns = ['userID', 'itemID','stars_x']\n",
    "valset = reviews_val.loc[:, ['user_id', 'business_id', 'stars_x']]\n",
    "valset.columns = ['userID', 'itemID','stars_x']\n",
    "testset = reviews_holdout.loc[:, ['user_id', 'business_id', 'stars_x']]\n",
    "testset.columns = ['userID', 'itemID','stars_x']"
   ],
   "metadata": {
    "collapsed": false,
    "ExecuteTime": {
     "end_time": "2023-10-01T17:42:47.270100700Z",
     "start_time": "2023-10-01T17:42:47.238666100Z"
    }
   },
   "id": "37a60e7e457716e0"
  },
  {
   "cell_type": "code",
   "execution_count": 50,
   "outputs": [],
   "source": [
    "reader = Reader(rating_scale = (0.0, 5.0))\n",
    "train_data = Dataset.load_from_df(trainset[['userID','itemID','stars_x']], reader)\n",
    "val_data = Dataset.load_from_df(valset[['userID','itemID','stars_x']], reader)\n",
    "test_data = Dataset.load_from_df(testset[['userID','itemID','stars_x']], reader)\n",
    "\n",
    "train_sr = train_data.build_full_trainset()\n",
    "val_sr_before = val_data.build_full_trainset()\n",
    "val_sr = val_sr_before.build_testset()\n",
    "test_sr_before = test_data.build_full_trainset()\n",
    "test_sr = test_sr_before.build_testset()"
   ],
   "metadata": {
    "collapsed": false,
    "ExecuteTime": {
     "end_time": "2023-10-01T17:43:39.073784500Z",
     "start_time": "2023-10-01T17:43:39.003369700Z"
    }
   },
   "id": "a53b753c4bba6701"
  },
  {
   "cell_type": "code",
   "execution_count": 51,
   "outputs": [
    {
     "name": "stdout",
     "output_type": "stream",
     "text": [
      "Estimating biases using als...\n",
      "RMSE: 1.2524\n"
     ]
    },
    {
     "data": {
      "text/plain": "1.252377613986122"
     },
     "execution_count": 51,
     "metadata": {},
     "output_type": "execute_result"
    }
   ],
   "source": [
    "bsl_options = {'method': 'als', 'n_epochs':3}\n",
    "bias_baseline = BaselineOnly(bsl_options)\n",
    "bias_baseline.fit(train_sr)\n",
    "predictions = bias_baseline.test(val_sr)\n",
    "accuracy.rmse(predictions)"
   ],
   "metadata": {
    "collapsed": false,
    "ExecuteTime": {
     "end_time": "2023-10-01T17:44:41.272757500Z",
     "start_time": "2023-10-01T17:44:41.194190800Z"
    }
   },
   "id": "d5e5a27f754a63b7"
  },
  {
   "cell_type": "code",
   "execution_count": 52,
   "outputs": [
    {
     "name": "stdout",
     "output_type": "stream",
     "text": [
      "Estimating biases using als...\n",
      "RMSE: 1.2524\n"
     ]
    },
    {
     "data": {
      "text/plain": "1.2523559556843937"
     },
     "execution_count": 52,
     "metadata": {},
     "output_type": "execute_result"
    }
   ],
   "source": [
    "bsl_options = {'method': 'als', 'n_epochs':5}\n",
    "bias_baseline = BaselineOnly(bsl_options)\n",
    "bias_baseline.fit(train_sr)\n",
    "predictions = bias_baseline.test(val_sr)\n",
    "accuracy.rmse(predictions)"
   ],
   "metadata": {
    "collapsed": false,
    "ExecuteTime": {
     "end_time": "2023-10-01T17:45:24.525046600Z",
     "start_time": "2023-10-01T17:45:24.461944200Z"
    }
   },
   "id": "840458a846f13da6"
  },
  {
   "cell_type": "code",
   "execution_count": 53,
   "outputs": [
    {
     "name": "stdout",
     "output_type": "stream",
     "text": [
      "Estimating biases using als...\n",
      "RMSE: 1.2524\n"
     ]
    },
    {
     "data": {
      "text/plain": "1.2523547149833716"
     },
     "execution_count": 53,
     "metadata": {},
     "output_type": "execute_result"
    }
   ],
   "source": [
    "bsl_options = {'method': 'als', 'n_epochs':9}\n",
    "bias_baseline = BaselineOnly(bsl_options)\n",
    "bias_baseline.fit(train_sr)\n",
    "predictions = bias_baseline.test(val_sr)\n",
    "accuracy.rmse(predictions)"
   ],
   "metadata": {
    "collapsed": false,
    "ExecuteTime": {
     "end_time": "2023-10-01T17:45:37.163120900Z",
     "start_time": "2023-10-01T17:45:37.068883400Z"
    }
   },
   "id": "62b73d7ec45ca73a"
  },
  {
   "cell_type": "markdown",
   "source": [
    "Baseline 2: Collaborative Filtering via SVD"
   ],
   "metadata": {
    "collapsed": false
   },
   "id": "3f2b1b6d13c54821"
  },
  {
   "cell_type": "code",
   "execution_count": 54,
   "outputs": [],
   "source": [
    "import matplotlib.pyplot as plt\n",
    "import json\n",
    "from tqdm import tqdm"
   ],
   "metadata": {
    "collapsed": false,
    "ExecuteTime": {
     "end_time": "2023-10-01T17:47:36.845971600Z",
     "start_time": "2023-10-01T17:47:36.794990500Z"
    }
   },
   "id": "de3b4eaef82c3707"
  },
  {
   "cell_type": "code",
   "execution_count": 56,
   "outputs": [],
   "source": [
    "def process(df):\n",
    "    df['date']  = pd.to_datetime(df['date'])\n",
    "    df['week_day'] = df['date'].dt.weekday\n",
    "    df['month'] = df['date'].dt.month\n",
    "    df['hour'] = df['date'].dt.hour\n",
    "    df = df.merge(users, on = 'user_id')\n",
    "    df = df.merge(df_res_bus, on = 'business_id')\n",
    "    rename_dict = {'business_longitude': 'longitude', 'business_latitude': 'latitude',\n",
    "                   'business_state':'state','business_city':'city', 'business_address': 'address'}\n",
    "    df = df.rename(columns = rename_dict)\n",
    "    return df\n",
    "\n",
    "reviews_train = process(reviews_train_.copy())\n",
    "reviews_holdout = process(reviews_holdout_.copy())\n",
    "reviews_val = process(reviews_cv_.copy())"
   ],
   "metadata": {
    "collapsed": false,
    "ExecuteTime": {
     "end_time": "2023-10-01T17:50:54.818238400Z",
     "start_time": "2023-10-01T17:50:54.626644800Z"
    }
   },
   "id": "c99564e74e23ae86"
  },
  {
   "cell_type": "code",
   "execution_count": 57,
   "outputs": [],
   "source": [
    "# remove observations that may cause cold-start problem, which breaks the model.\n",
    "reviews_test = reviews_test.loc[reviews_test.business_id.isin(reviews_train.business_id)]\n",
    "reviews_val = reviews_val.loc[reviews_val.business_id.isin(reviews_train.business_id)]"
   ],
   "metadata": {
    "collapsed": false,
    "ExecuteTime": {
     "end_time": "2023-10-01T17:50:55.800217100Z",
     "start_time": "2023-10-01T17:50:55.787711700Z"
    }
   },
   "id": "44c2bbcc64b6f977"
  },
  {
   "cell_type": "code",
   "execution_count": 58,
   "outputs": [],
   "source": [
    "trainset = reviews_train.loc[:,['user_id', 'business_id', 'stars_x']]\n",
    "trainset.columns = ['userID', 'itemID','stars_x']\n",
    "valset = reviews_val.loc[:, ['user_id', 'business_id', 'stars_x']]\n",
    "valset.columns = ['userID', 'itemID','stars_x']\n",
    "testset = reviews_holdout.loc[:, ['user_id', 'business_id', 'stars_x']]\n",
    "testset.columns = ['userID', 'itemID','stars_x']"
   ],
   "metadata": {
    "collapsed": false,
    "ExecuteTime": {
     "end_time": "2023-10-01T17:50:56.635340200Z",
     "start_time": "2023-10-01T17:50:56.604051100Z"
    }
   },
   "id": "921213bf94c5e9c9"
  },
  {
   "cell_type": "code",
   "execution_count": 59,
   "outputs": [],
   "source": [
    "reader = Reader(rating_scale = (0.0, 5.0))\n",
    "train_data = Dataset.load_from_df(trainset[['userID','itemID','stars_x']], reader)\n",
    "val_data = Dataset.load_from_df(valset[['userID','itemID','stars_x']], reader)\n",
    "test_data = Dataset.load_from_df(testset[['userID','itemID','stars_x']], reader)\n",
    "\n",
    "train_sr = train_data.build_full_trainset()\n",
    "val_sr_before = val_data.build_full_trainset()\n",
    "val_sr = val_sr_before.build_testset()\n",
    "test_sr_before = test_data.build_full_trainset()\n",
    "test_sr = test_sr_before.build_testset()"
   ],
   "metadata": {
    "collapsed": false,
    "ExecuteTime": {
     "end_time": "2023-10-01T17:50:57.536895700Z",
     "start_time": "2023-10-01T17:50:57.475641800Z"
    }
   },
   "id": "882d1f37b794c68d"
  },
  {
   "cell_type": "markdown",
   "source": [
    "Hyperparameter Tuning"
   ],
   "metadata": {
    "collapsed": false
   },
   "id": "da871e2335a1ffbd"
  },
  {
   "cell_type": "code",
   "execution_count": 60,
   "outputs": [
    {
     "name": "stdout",
     "output_type": "stream",
     "text": [
      "Fitting n: 10, l: 0.001, r: 0.02\n",
      "RMSE: 1.3103\n",
      "Fitting n: 10, l: 0.001, r: 0.05\n",
      "RMSE: 1.3083\n",
      "Fitting n: 10, l: 0.001, r: 0.1\n",
      "RMSE: 1.3122\n",
      "Fitting n: 10, l: 0.001, r: 0.4\n",
      "RMSE: 1.3094\n",
      "Fitting n: 10, l: 0.001, r: 0.5\n",
      "RMSE: 1.3095\n",
      "Fitting n: 10, l: 0.003, r: 0.02\n",
      "RMSE: 1.2735\n",
      "Fitting n: 10, l: 0.003, r: 0.05\n",
      "RMSE: 1.2722\n",
      "Fitting n: 10, l: 0.003, r: 0.1\n",
      "RMSE: 1.2734\n",
      "Fitting n: 10, l: 0.003, r: 0.4\n",
      "RMSE: 1.2780\n",
      "Fitting n: 10, l: 0.003, r: 0.5\n",
      "RMSE: 1.2796\n",
      "Fitting n: 10, l: 0.005, r: 0.02\n",
      "RMSE: 1.2566\n",
      "Fitting n: 10, l: 0.005, r: 0.05\n",
      "RMSE: 1.2567\n",
      "Fitting n: 10, l: 0.005, r: 0.1\n",
      "RMSE: 1.2568\n",
      "Fitting n: 10, l: 0.005, r: 0.4\n",
      "RMSE: 1.2640\n",
      "Fitting n: 10, l: 0.005, r: 0.5\n",
      "RMSE: 1.2628\n",
      "Fitting n: 20, l: 0.001, r: 0.02\n",
      "RMSE: 1.2890\n",
      "Fitting n: 20, l: 0.001, r: 0.05\n",
      "RMSE: 1.2869\n",
      "Fitting n: 20, l: 0.001, r: 0.1\n",
      "RMSE: 1.2893\n",
      "Fitting n: 20, l: 0.001, r: 0.4\n",
      "RMSE: 1.2909\n",
      "Fitting n: 20, l: 0.001, r: 0.5\n",
      "RMSE: 1.2926\n",
      "Fitting n: 20, l: 0.003, r: 0.02\n",
      "RMSE: 1.2554\n",
      "Fitting n: 20, l: 0.003, r: 0.05\n",
      "RMSE: 1.2553\n",
      "Fitting n: 20, l: 0.003, r: 0.1\n",
      "RMSE: 1.2550\n",
      "Fitting n: 20, l: 0.003, r: 0.4\n",
      "RMSE: 1.2589\n",
      "Fitting n: 20, l: 0.003, r: 0.5\n",
      "RMSE: 1.2603\n",
      "Fitting n: 20, l: 0.005, r: 0.02\n",
      "RMSE: 1.2443\n",
      "Fitting n: 20, l: 0.005, r: 0.05\n",
      "RMSE: 1.2476\n",
      "Fitting n: 20, l: 0.005, r: 0.1\n",
      "RMSE: 1.2450\n",
      "Fitting n: 20, l: 0.005, r: 0.4\n",
      "RMSE: 1.2471\n",
      "Fitting n: 20, l: 0.005, r: 0.5\n",
      "RMSE: 1.2501\n",
      "Fitting n: 30, l: 0.001, r: 0.02\n",
      "RMSE: 1.2722\n",
      "Fitting n: 30, l: 0.001, r: 0.05\n",
      "RMSE: 1.2748\n",
      "Fitting n: 30, l: 0.001, r: 0.1\n",
      "RMSE: 1.2716\n",
      "Fitting n: 30, l: 0.001, r: 0.4\n",
      "RMSE: 1.2778\n",
      "Fitting n: 30, l: 0.001, r: 0.5\n",
      "RMSE: 1.2780\n",
      "Fitting n: 30, l: 0.003, r: 0.02\n",
      "RMSE: 1.2442\n",
      "Fitting n: 30, l: 0.003, r: 0.05\n",
      "RMSE: 1.2489\n",
      "Fitting n: 30, l: 0.003, r: 0.1\n",
      "RMSE: 1.2478\n",
      "Fitting n: 30, l: 0.003, r: 0.4\n",
      "RMSE: 1.2499\n",
      "Fitting n: 30, l: 0.003, r: 0.5\n",
      "RMSE: 1.2521\n",
      "Fitting n: 30, l: 0.005, r: 0.02\n",
      "RMSE: 1.2477\n",
      "Fitting n: 30, l: 0.005, r: 0.05\n",
      "RMSE: 1.2401\n",
      "Fitting n: 30, l: 0.005, r: 0.1\n",
      "RMSE: 1.2390\n",
      "Fitting n: 30, l: 0.005, r: 0.4\n",
      "RMSE: 1.2408\n",
      "Fitting n: 30, l: 0.005, r: 0.5\n",
      "RMSE: 1.2444\n"
     ]
    }
   ],
   "source": [
    "RMSE_tune = {}\n",
    "n_epochs = [10, 20, 30]  # the number of iteration of the SGD procedure\n",
    "lr_all = [0.001, 0.003, 0.005] # the learning rate for all parameters\n",
    "reg_all =  [0.02, 0.05, 0.1, 0.4, 0.5] # the regularization term for all parameters\n",
    "\n",
    "for n in n_epochs:\n",
    "    for l in lr_all:\n",
    "        for r in reg_all:\n",
    "            print('Fitting n: {0}, l: {1}, r: {2}'.format(n, l, r))\n",
    "            algo = SVD(n_epochs = n, lr_all = l, reg_all = r)\n",
    "            algo.fit(train_sr)\n",
    "            predictions = algo.test(val_sr)\n",
    "            RMSE_tune[n,l,r] = accuracy.rmse(predictions)"
   ],
   "metadata": {
    "collapsed": false,
    "ExecuteTime": {
     "end_time": "2023-10-01T17:51:37.485594600Z",
     "start_time": "2023-10-01T17:51:02.070917500Z"
    }
   },
   "id": "bb4638e51d92f8b3"
  },
  {
   "cell_type": "code",
   "execution_count": 61,
   "outputs": [
    {
     "data": {
      "text/plain": "(30, 0.005, 0.1)"
     },
     "execution_count": 61,
     "metadata": {},
     "output_type": "execute_result"
    }
   ],
   "source": [
    "import operator\n",
    "min(RMSE_tune.items(), key=operator.itemgetter(1))[0]"
   ],
   "metadata": {
    "collapsed": false,
    "ExecuteTime": {
     "end_time": "2023-10-01T17:51:50.444880200Z",
     "start_time": "2023-10-01T17:51:50.382375600Z"
    }
   },
   "id": "c62338ceee96ca06"
  },
  {
   "cell_type": "markdown",
   "source": [
    "Evaluation"
   ],
   "metadata": {
    "collapsed": false
   },
   "id": "41fb8bdfd3b90c02"
  },
  {
   "cell_type": "code",
   "execution_count": 62,
   "outputs": [],
   "source": [
    "# train and test on the optimal parameter\n",
    "start_time = time.time()\n",
    "algo_real = SVD(n_epochs = 30, lr_all = 0.005, reg_all = 0.1)\n",
    "algo_real.fit(train_sr)\n",
    "predictions = algo_real.test(test_sr)"
   ],
   "metadata": {
    "collapsed": false,
    "ExecuteTime": {
     "end_time": "2023-10-01T17:52:34.571517100Z",
     "start_time": "2023-10-01T17:52:33.296376500Z"
    }
   },
   "id": "c809642d664b3e10"
  },
  {
   "cell_type": "code",
   "execution_count": 63,
   "outputs": [
    {
     "name": "stdout",
     "output_type": "stream",
     "text": [
      "--- 9.580399751663208 seconds ---\n"
     ]
    }
   ],
   "source": [
    "print(\"--- %s seconds ---\" % (time.time() - start_time))"
   ],
   "metadata": {
    "collapsed": false,
    "ExecuteTime": {
     "end_time": "2023-10-01T17:52:42.939288300Z",
     "start_time": "2023-10-01T17:52:42.876776200Z"
    }
   },
   "id": "f8ce0c5400e1100c"
  },
  {
   "cell_type": "code",
   "execution_count": 64,
   "outputs": [
    {
     "name": "stdout",
     "output_type": "stream",
     "text": [
      "RMSE: 1.2956\n"
     ]
    },
    {
     "data": {
      "text/plain": "1.295611008552375"
     },
     "execution_count": 64,
     "metadata": {},
     "output_type": "execute_result"
    }
   ],
   "source": [
    "accuracy.rmse(predictions)"
   ],
   "metadata": {
    "collapsed": false,
    "ExecuteTime": {
     "end_time": "2023-10-01T17:52:51.119076300Z",
     "start_time": "2023-10-01T17:52:51.087797100Z"
    }
   },
   "id": "3d2ed37a02ec8cdf"
  },
  {
   "cell_type": "code",
   "execution_count": 65,
   "outputs": [
    {
     "name": "stdout",
     "output_type": "stream",
     "text": [
      "MAE:  1.0590\n"
     ]
    },
    {
     "data": {
      "text/plain": "1.0590486425810073"
     },
     "execution_count": 65,
     "metadata": {},
     "output_type": "execute_result"
    }
   ],
   "source": [
    "accuracy.mae(predictions)"
   ],
   "metadata": {
    "collapsed": false,
    "ExecuteTime": {
     "end_time": "2023-10-01T17:53:12.420215900Z",
     "start_time": "2023-10-01T17:53:12.388896500Z"
    }
   },
   "id": "4300dbdc72698fd2"
  },
  {
   "cell_type": "code",
   "execution_count": 66,
   "outputs": [
    {
     "data": {
      "text/plain": "0.14515720108935593"
     },
     "execution_count": 66,
     "metadata": {},
     "output_type": "execute_result"
    }
   ],
   "source": [
    "r2_score([t[2] for t in predictions], [t[3] for t in predictions])"
   ],
   "metadata": {
    "collapsed": false,
    "ExecuteTime": {
     "end_time": "2023-10-01T17:53:23.925464300Z",
     "start_time": "2023-10-01T17:53:23.894178Z"
    }
   },
   "id": "913902901e54e7d7"
  },
  {
   "cell_type": "code",
   "execution_count": 68,
   "outputs": [],
   "source": [
    "# To evaluate coverage and serendipity metrics, use evaluation set created earlier.\n",
    "predict_df_20 = pd.read_csv('../datasets/filter_data_sando/metric_sample.csv', index_col=0)\n",
    "predict_df_20['predictions'] = 2.5 # fill in this value temporally\n",
    "eval_20 = Dataset.load_from_df(predict_df_20[['user_id','business_id','predictions']], reader)"
   ],
   "metadata": {
    "collapsed": false,
    "ExecuteTime": {
     "end_time": "2023-10-01T17:54:06.762294Z",
     "start_time": "2023-10-01T17:54:06.746638900Z"
    }
   },
   "id": "ab1efd75e08cc78c"
  },
  {
   "cell_type": "code",
   "execution_count": 74,
   "outputs": [
    {
     "data": {
      "text/plain": "                   user_id    city state             business_id  predictions\n0   vL-7Z3rtMYLbY-L7Xd0JAw  Tucson    AZ  RhuYqAT45uIR2NNdDsolXQ     3.880114\n1   vL-7Z3rtMYLbY-L7Xd0JAw  Tucson    AZ  U3aNQ5DsABPYyJQolsCbJg     4.039376\n2   vL-7Z3rtMYLbY-L7Xd0JAw  Tucson    AZ  WbA5ud4InNWkizW7HE5kRQ     3.721751\n3   vL-7Z3rtMYLbY-L7Xd0JAw  Tucson    AZ  sr5A1frZiTRediG8FLEkdw     3.050100\n4   vL-7Z3rtMYLbY-L7Xd0JAw  Tucson    AZ  AVBqx8FaXza6x-bb_FLOTQ     4.593498\n5   vL-7Z3rtMYLbY-L7Xd0JAw  Tucson    AZ  UvDud4vaI7l_JlBV3E1mHg     3.958948\n6   vL-7Z3rtMYLbY-L7Xd0JAw  Tucson    AZ  4QMIJJWQOh7zpEwOXhFJqw     4.292749\n7   vL-7Z3rtMYLbY-L7Xd0JAw  Tucson    AZ  V9XlikTxq0My4gE8LULsjw     3.144183\n8   vL-7Z3rtMYLbY-L7Xd0JAw  Tucson    AZ  f82dhKNiUXsDVPMLqKYiIQ     4.410789\n9   vL-7Z3rtMYLbY-L7Xd0JAw  Tucson    AZ  wa_bwyY57etHjtJ2Fw0E3g     3.478060\n10  vL-7Z3rtMYLbY-L7Xd0JAw  Tucson    AZ  CA5BOxKRDPGJgdUQ8OUOpw     4.283689\n11  vL-7Z3rtMYLbY-L7Xd0JAw  Tucson    AZ  DK98TgLNmIguxMMPGlyb5w     4.143005\n12  vL-7Z3rtMYLbY-L7Xd0JAw  Tucson    AZ  1c93YzZL5pke1sJCFndPGw     3.821491\n13  vL-7Z3rtMYLbY-L7Xd0JAw  Tucson    AZ  ZCkc45yLiM93rWxroR54_Q     4.282598\n14  vL-7Z3rtMYLbY-L7Xd0JAw  Tucson    AZ  z0RrXXMvLyncxFmtxegK1Q     3.809041\n15  vL-7Z3rtMYLbY-L7Xd0JAw  Tucson    AZ  LZzDvgfpkd4nI3E4L9wF1w     3.864198\n16  vL-7Z3rtMYLbY-L7Xd0JAw  Tucson    AZ  dK10D96iGeHuTQzR8aG90Q     4.042134\n17  vL-7Z3rtMYLbY-L7Xd0JAw  Tucson    AZ  z67ktHxCJ3-Ebs3zooegSg     3.737492\n18  vL-7Z3rtMYLbY-L7Xd0JAw  Tucson    AZ  nmkch1Q89DdFRXF1a-OgIg     4.062525\n19  vL-7Z3rtMYLbY-L7Xd0JAw  Tucson    AZ  aAyCUTc7y9ZIN1OZ7tGe6Q     3.639874",
      "text/html": "<div>\n<style scoped>\n    .dataframe tbody tr th:only-of-type {\n        vertical-align: middle;\n    }\n\n    .dataframe tbody tr th {\n        vertical-align: top;\n    }\n\n    .dataframe thead th {\n        text-align: right;\n    }\n</style>\n<table border=\"1\" class=\"dataframe\">\n  <thead>\n    <tr style=\"text-align: right;\">\n      <th></th>\n      <th>user_id</th>\n      <th>city</th>\n      <th>state</th>\n      <th>business_id</th>\n      <th>predictions</th>\n    </tr>\n  </thead>\n  <tbody>\n    <tr>\n      <th>0</th>\n      <td>vL-7Z3rtMYLbY-L7Xd0JAw</td>\n      <td>Tucson</td>\n      <td>AZ</td>\n      <td>RhuYqAT45uIR2NNdDsolXQ</td>\n      <td>3.880114</td>\n    </tr>\n    <tr>\n      <th>1</th>\n      <td>vL-7Z3rtMYLbY-L7Xd0JAw</td>\n      <td>Tucson</td>\n      <td>AZ</td>\n      <td>U3aNQ5DsABPYyJQolsCbJg</td>\n      <td>4.039376</td>\n    </tr>\n    <tr>\n      <th>2</th>\n      <td>vL-7Z3rtMYLbY-L7Xd0JAw</td>\n      <td>Tucson</td>\n      <td>AZ</td>\n      <td>WbA5ud4InNWkizW7HE5kRQ</td>\n      <td>3.721751</td>\n    </tr>\n    <tr>\n      <th>3</th>\n      <td>vL-7Z3rtMYLbY-L7Xd0JAw</td>\n      <td>Tucson</td>\n      <td>AZ</td>\n      <td>sr5A1frZiTRediG8FLEkdw</td>\n      <td>3.050100</td>\n    </tr>\n    <tr>\n      <th>4</th>\n      <td>vL-7Z3rtMYLbY-L7Xd0JAw</td>\n      <td>Tucson</td>\n      <td>AZ</td>\n      <td>AVBqx8FaXza6x-bb_FLOTQ</td>\n      <td>4.593498</td>\n    </tr>\n    <tr>\n      <th>5</th>\n      <td>vL-7Z3rtMYLbY-L7Xd0JAw</td>\n      <td>Tucson</td>\n      <td>AZ</td>\n      <td>UvDud4vaI7l_JlBV3E1mHg</td>\n      <td>3.958948</td>\n    </tr>\n    <tr>\n      <th>6</th>\n      <td>vL-7Z3rtMYLbY-L7Xd0JAw</td>\n      <td>Tucson</td>\n      <td>AZ</td>\n      <td>4QMIJJWQOh7zpEwOXhFJqw</td>\n      <td>4.292749</td>\n    </tr>\n    <tr>\n      <th>7</th>\n      <td>vL-7Z3rtMYLbY-L7Xd0JAw</td>\n      <td>Tucson</td>\n      <td>AZ</td>\n      <td>V9XlikTxq0My4gE8LULsjw</td>\n      <td>3.144183</td>\n    </tr>\n    <tr>\n      <th>8</th>\n      <td>vL-7Z3rtMYLbY-L7Xd0JAw</td>\n      <td>Tucson</td>\n      <td>AZ</td>\n      <td>f82dhKNiUXsDVPMLqKYiIQ</td>\n      <td>4.410789</td>\n    </tr>\n    <tr>\n      <th>9</th>\n      <td>vL-7Z3rtMYLbY-L7Xd0JAw</td>\n      <td>Tucson</td>\n      <td>AZ</td>\n      <td>wa_bwyY57etHjtJ2Fw0E3g</td>\n      <td>3.478060</td>\n    </tr>\n    <tr>\n      <th>10</th>\n      <td>vL-7Z3rtMYLbY-L7Xd0JAw</td>\n      <td>Tucson</td>\n      <td>AZ</td>\n      <td>CA5BOxKRDPGJgdUQ8OUOpw</td>\n      <td>4.283689</td>\n    </tr>\n    <tr>\n      <th>11</th>\n      <td>vL-7Z3rtMYLbY-L7Xd0JAw</td>\n      <td>Tucson</td>\n      <td>AZ</td>\n      <td>DK98TgLNmIguxMMPGlyb5w</td>\n      <td>4.143005</td>\n    </tr>\n    <tr>\n      <th>12</th>\n      <td>vL-7Z3rtMYLbY-L7Xd0JAw</td>\n      <td>Tucson</td>\n      <td>AZ</td>\n      <td>1c93YzZL5pke1sJCFndPGw</td>\n      <td>3.821491</td>\n    </tr>\n    <tr>\n      <th>13</th>\n      <td>vL-7Z3rtMYLbY-L7Xd0JAw</td>\n      <td>Tucson</td>\n      <td>AZ</td>\n      <td>ZCkc45yLiM93rWxroR54_Q</td>\n      <td>4.282598</td>\n    </tr>\n    <tr>\n      <th>14</th>\n      <td>vL-7Z3rtMYLbY-L7Xd0JAw</td>\n      <td>Tucson</td>\n      <td>AZ</td>\n      <td>z0RrXXMvLyncxFmtxegK1Q</td>\n      <td>3.809041</td>\n    </tr>\n    <tr>\n      <th>15</th>\n      <td>vL-7Z3rtMYLbY-L7Xd0JAw</td>\n      <td>Tucson</td>\n      <td>AZ</td>\n      <td>LZzDvgfpkd4nI3E4L9wF1w</td>\n      <td>3.864198</td>\n    </tr>\n    <tr>\n      <th>16</th>\n      <td>vL-7Z3rtMYLbY-L7Xd0JAw</td>\n      <td>Tucson</td>\n      <td>AZ</td>\n      <td>dK10D96iGeHuTQzR8aG90Q</td>\n      <td>4.042134</td>\n    </tr>\n    <tr>\n      <th>17</th>\n      <td>vL-7Z3rtMYLbY-L7Xd0JAw</td>\n      <td>Tucson</td>\n      <td>AZ</td>\n      <td>z67ktHxCJ3-Ebs3zooegSg</td>\n      <td>3.737492</td>\n    </tr>\n    <tr>\n      <th>18</th>\n      <td>vL-7Z3rtMYLbY-L7Xd0JAw</td>\n      <td>Tucson</td>\n      <td>AZ</td>\n      <td>nmkch1Q89DdFRXF1a-OgIg</td>\n      <td>4.062525</td>\n    </tr>\n    <tr>\n      <th>19</th>\n      <td>vL-7Z3rtMYLbY-L7Xd0JAw</td>\n      <td>Tucson</td>\n      <td>AZ</td>\n      <td>aAyCUTc7y9ZIN1OZ7tGe6Q</td>\n      <td>3.639874</td>\n    </tr>\n  </tbody>\n</table>\n</div>"
     },
     "execution_count": 74,
     "metadata": {},
     "output_type": "execute_result"
    }
   ],
   "source": [
    "predict_df_20.head(20)"
   ],
   "metadata": {
    "collapsed": false,
    "ExecuteTime": {
     "end_time": "2023-10-01T18:16:31.311000600Z",
     "start_time": "2023-10-01T18:16:31.239963300Z"
    }
   },
   "id": "a177d1dafd7dacf8"
  },
  {
   "cell_type": "code",
   "execution_count": 99,
   "outputs": [],
   "source": [
    "predict_df_20['predictions_2'] = predict_df_20['predictions'].astype(float)"
   ],
   "metadata": {
    "collapsed": false,
    "ExecuteTime": {
     "end_time": "2023-10-02T19:02:27.815839100Z",
     "start_time": "2023-10-02T19:02:27.737204200Z"
    }
   },
   "id": "9d366fd994643596"
  },
  {
   "cell_type": "code",
   "execution_count": 100,
   "outputs": [
    {
     "data": {
      "text/plain": "                   user_id    city state             business_id  predictions  \\\n0   vL-7Z3rtMYLbY-L7Xd0JAw  Tucson    AZ  RhuYqAT45uIR2NNdDsolXQ     3.880114   \n1   vL-7Z3rtMYLbY-L7Xd0JAw  Tucson    AZ  U3aNQ5DsABPYyJQolsCbJg     4.039376   \n2   vL-7Z3rtMYLbY-L7Xd0JAw  Tucson    AZ  WbA5ud4InNWkizW7HE5kRQ     3.721751   \n3   vL-7Z3rtMYLbY-L7Xd0JAw  Tucson    AZ  sr5A1frZiTRediG8FLEkdw     3.050100   \n4   vL-7Z3rtMYLbY-L7Xd0JAw  Tucson    AZ  AVBqx8FaXza6x-bb_FLOTQ     4.593498   \n5   vL-7Z3rtMYLbY-L7Xd0JAw  Tucson    AZ  UvDud4vaI7l_JlBV3E1mHg     3.958948   \n6   vL-7Z3rtMYLbY-L7Xd0JAw  Tucson    AZ  4QMIJJWQOh7zpEwOXhFJqw     4.292749   \n7   vL-7Z3rtMYLbY-L7Xd0JAw  Tucson    AZ  V9XlikTxq0My4gE8LULsjw     3.144183   \n8   vL-7Z3rtMYLbY-L7Xd0JAw  Tucson    AZ  f82dhKNiUXsDVPMLqKYiIQ     4.410789   \n9   vL-7Z3rtMYLbY-L7Xd0JAw  Tucson    AZ  wa_bwyY57etHjtJ2Fw0E3g     3.478060   \n10  vL-7Z3rtMYLbY-L7Xd0JAw  Tucson    AZ  CA5BOxKRDPGJgdUQ8OUOpw     4.283689   \n11  vL-7Z3rtMYLbY-L7Xd0JAw  Tucson    AZ  DK98TgLNmIguxMMPGlyb5w     4.143005   \n12  vL-7Z3rtMYLbY-L7Xd0JAw  Tucson    AZ  1c93YzZL5pke1sJCFndPGw     3.821491   \n13  vL-7Z3rtMYLbY-L7Xd0JAw  Tucson    AZ  ZCkc45yLiM93rWxroR54_Q     4.282598   \n14  vL-7Z3rtMYLbY-L7Xd0JAw  Tucson    AZ  z0RrXXMvLyncxFmtxegK1Q     3.809041   \n15  vL-7Z3rtMYLbY-L7Xd0JAw  Tucson    AZ  LZzDvgfpkd4nI3E4L9wF1w     3.864198   \n16  vL-7Z3rtMYLbY-L7Xd0JAw  Tucson    AZ  dK10D96iGeHuTQzR8aG90Q     4.042134   \n17  vL-7Z3rtMYLbY-L7Xd0JAw  Tucson    AZ  z67ktHxCJ3-Ebs3zooegSg     3.737492   \n18  vL-7Z3rtMYLbY-L7Xd0JAw  Tucson    AZ  nmkch1Q89DdFRXF1a-OgIg     4.062525   \n19  vL-7Z3rtMYLbY-L7Xd0JAw  Tucson    AZ  aAyCUTc7y9ZIN1OZ7tGe6Q     3.639874   \n\n    predictions_2  \n0        3.880114  \n1        4.039376  \n2        3.721751  \n3        3.050100  \n4        4.593498  \n5        3.958948  \n6        4.292749  \n7        3.144183  \n8        4.410789  \n9        3.478060  \n10       4.283689  \n11       4.143005  \n12       3.821491  \n13       4.282598  \n14       3.809041  \n15       3.864198  \n16       4.042134  \n17       3.737492  \n18       4.062525  \n19       3.639874  ",
      "text/html": "<div>\n<style scoped>\n    .dataframe tbody tr th:only-of-type {\n        vertical-align: middle;\n    }\n\n    .dataframe tbody tr th {\n        vertical-align: top;\n    }\n\n    .dataframe thead th {\n        text-align: right;\n    }\n</style>\n<table border=\"1\" class=\"dataframe\">\n  <thead>\n    <tr style=\"text-align: right;\">\n      <th></th>\n      <th>user_id</th>\n      <th>city</th>\n      <th>state</th>\n      <th>business_id</th>\n      <th>predictions</th>\n      <th>predictions_2</th>\n    </tr>\n  </thead>\n  <tbody>\n    <tr>\n      <th>0</th>\n      <td>vL-7Z3rtMYLbY-L7Xd0JAw</td>\n      <td>Tucson</td>\n      <td>AZ</td>\n      <td>RhuYqAT45uIR2NNdDsolXQ</td>\n      <td>3.880114</td>\n      <td>3.880114</td>\n    </tr>\n    <tr>\n      <th>1</th>\n      <td>vL-7Z3rtMYLbY-L7Xd0JAw</td>\n      <td>Tucson</td>\n      <td>AZ</td>\n      <td>U3aNQ5DsABPYyJQolsCbJg</td>\n      <td>4.039376</td>\n      <td>4.039376</td>\n    </tr>\n    <tr>\n      <th>2</th>\n      <td>vL-7Z3rtMYLbY-L7Xd0JAw</td>\n      <td>Tucson</td>\n      <td>AZ</td>\n      <td>WbA5ud4InNWkizW7HE5kRQ</td>\n      <td>3.721751</td>\n      <td>3.721751</td>\n    </tr>\n    <tr>\n      <th>3</th>\n      <td>vL-7Z3rtMYLbY-L7Xd0JAw</td>\n      <td>Tucson</td>\n      <td>AZ</td>\n      <td>sr5A1frZiTRediG8FLEkdw</td>\n      <td>3.050100</td>\n      <td>3.050100</td>\n    </tr>\n    <tr>\n      <th>4</th>\n      <td>vL-7Z3rtMYLbY-L7Xd0JAw</td>\n      <td>Tucson</td>\n      <td>AZ</td>\n      <td>AVBqx8FaXza6x-bb_FLOTQ</td>\n      <td>4.593498</td>\n      <td>4.593498</td>\n    </tr>\n    <tr>\n      <th>5</th>\n      <td>vL-7Z3rtMYLbY-L7Xd0JAw</td>\n      <td>Tucson</td>\n      <td>AZ</td>\n      <td>UvDud4vaI7l_JlBV3E1mHg</td>\n      <td>3.958948</td>\n      <td>3.958948</td>\n    </tr>\n    <tr>\n      <th>6</th>\n      <td>vL-7Z3rtMYLbY-L7Xd0JAw</td>\n      <td>Tucson</td>\n      <td>AZ</td>\n      <td>4QMIJJWQOh7zpEwOXhFJqw</td>\n      <td>4.292749</td>\n      <td>4.292749</td>\n    </tr>\n    <tr>\n      <th>7</th>\n      <td>vL-7Z3rtMYLbY-L7Xd0JAw</td>\n      <td>Tucson</td>\n      <td>AZ</td>\n      <td>V9XlikTxq0My4gE8LULsjw</td>\n      <td>3.144183</td>\n      <td>3.144183</td>\n    </tr>\n    <tr>\n      <th>8</th>\n      <td>vL-7Z3rtMYLbY-L7Xd0JAw</td>\n      <td>Tucson</td>\n      <td>AZ</td>\n      <td>f82dhKNiUXsDVPMLqKYiIQ</td>\n      <td>4.410789</td>\n      <td>4.410789</td>\n    </tr>\n    <tr>\n      <th>9</th>\n      <td>vL-7Z3rtMYLbY-L7Xd0JAw</td>\n      <td>Tucson</td>\n      <td>AZ</td>\n      <td>wa_bwyY57etHjtJ2Fw0E3g</td>\n      <td>3.478060</td>\n      <td>3.478060</td>\n    </tr>\n    <tr>\n      <th>10</th>\n      <td>vL-7Z3rtMYLbY-L7Xd0JAw</td>\n      <td>Tucson</td>\n      <td>AZ</td>\n      <td>CA5BOxKRDPGJgdUQ8OUOpw</td>\n      <td>4.283689</td>\n      <td>4.283689</td>\n    </tr>\n    <tr>\n      <th>11</th>\n      <td>vL-7Z3rtMYLbY-L7Xd0JAw</td>\n      <td>Tucson</td>\n      <td>AZ</td>\n      <td>DK98TgLNmIguxMMPGlyb5w</td>\n      <td>4.143005</td>\n      <td>4.143005</td>\n    </tr>\n    <tr>\n      <th>12</th>\n      <td>vL-7Z3rtMYLbY-L7Xd0JAw</td>\n      <td>Tucson</td>\n      <td>AZ</td>\n      <td>1c93YzZL5pke1sJCFndPGw</td>\n      <td>3.821491</td>\n      <td>3.821491</td>\n    </tr>\n    <tr>\n      <th>13</th>\n      <td>vL-7Z3rtMYLbY-L7Xd0JAw</td>\n      <td>Tucson</td>\n      <td>AZ</td>\n      <td>ZCkc45yLiM93rWxroR54_Q</td>\n      <td>4.282598</td>\n      <td>4.282598</td>\n    </tr>\n    <tr>\n      <th>14</th>\n      <td>vL-7Z3rtMYLbY-L7Xd0JAw</td>\n      <td>Tucson</td>\n      <td>AZ</td>\n      <td>z0RrXXMvLyncxFmtxegK1Q</td>\n      <td>3.809041</td>\n      <td>3.809041</td>\n    </tr>\n    <tr>\n      <th>15</th>\n      <td>vL-7Z3rtMYLbY-L7Xd0JAw</td>\n      <td>Tucson</td>\n      <td>AZ</td>\n      <td>LZzDvgfpkd4nI3E4L9wF1w</td>\n      <td>3.864198</td>\n      <td>3.864198</td>\n    </tr>\n    <tr>\n      <th>16</th>\n      <td>vL-7Z3rtMYLbY-L7Xd0JAw</td>\n      <td>Tucson</td>\n      <td>AZ</td>\n      <td>dK10D96iGeHuTQzR8aG90Q</td>\n      <td>4.042134</td>\n      <td>4.042134</td>\n    </tr>\n    <tr>\n      <th>17</th>\n      <td>vL-7Z3rtMYLbY-L7Xd0JAw</td>\n      <td>Tucson</td>\n      <td>AZ</td>\n      <td>z67ktHxCJ3-Ebs3zooegSg</td>\n      <td>3.737492</td>\n      <td>3.737492</td>\n    </tr>\n    <tr>\n      <th>18</th>\n      <td>vL-7Z3rtMYLbY-L7Xd0JAw</td>\n      <td>Tucson</td>\n      <td>AZ</td>\n      <td>nmkch1Q89DdFRXF1a-OgIg</td>\n      <td>4.062525</td>\n      <td>4.062525</td>\n    </tr>\n    <tr>\n      <th>19</th>\n      <td>vL-7Z3rtMYLbY-L7Xd0JAw</td>\n      <td>Tucson</td>\n      <td>AZ</td>\n      <td>aAyCUTc7y9ZIN1OZ7tGe6Q</td>\n      <td>3.639874</td>\n      <td>3.639874</td>\n    </tr>\n  </tbody>\n</table>\n</div>"
     },
     "execution_count": 100,
     "metadata": {},
     "output_type": "execute_result"
    }
   ],
   "source": [
    "predict_df_20.head(20)"
   ],
   "metadata": {
    "collapsed": false,
    "ExecuteTime": {
     "end_time": "2023-10-02T19:02:50.229664700Z",
     "start_time": "2023-10-02T19:02:50.040971100Z"
    }
   },
   "id": "2d131bdc5a77597a"
  },
  {
   "cell_type": "code",
   "execution_count": 121,
   "outputs": [
    {
     "data": {
      "text/plain": "business_id\n3qsHL1xuMPlPqQciHNYkeg    4.885406\njh8j-DWqgWkbRe_a2XtKFQ    4.877876\nCJoO4HYD0tZRXlZqA04wmw    4.845294\n6OwxdpajDSJi3DkMqkr2sw    4.803091\nvZlPeIEzNK2YkZhGcLxHOw    4.749477\n2VPX222bhizLlWZrLQL3PQ    4.739211\n-OX0MJDPRHV0RCRvwYnvBQ    4.737528\nDVBJRvnCpkqaYl6nHroaMg    4.732952\nH5nMeiXJmLpBALeV8A-FeQ    4.732048\niKLhnstKcsUILIaOHwhJ8Q    4.717179\nName: predictions_2, dtype: float64"
     },
     "execution_count": 121,
     "metadata": {},
     "output_type": "execute_result"
    }
   ],
   "source": [
    "top10=predict_df_20.groupby('business_id')[\"predictions_2\"].mean()\n",
    "top10.sort_values(ascending=False).head(10)\n"
   ],
   "metadata": {
    "collapsed": false,
    "ExecuteTime": {
     "end_time": "2023-10-02T19:55:46.356039Z",
     "start_time": "2023-10-02T19:55:46.309584Z"
    }
   },
   "id": "639e3dd0b43dd505"
  },
  {
   "cell_type": "code",
   "execution_count": 122,
   "outputs": [
    {
     "name": "stdout",
     "output_type": "stream",
     "text": [
      "<class 'pandas.core.frame.DataFrame'>\n"
     ]
    }
   ],
   "source": [
    "resultado=top10.to_frame()\n",
    "print(type(resultado))"
   ],
   "metadata": {
    "collapsed": false,
    "ExecuteTime": {
     "end_time": "2023-10-02T19:57:32.162909100Z",
     "start_time": "2023-10-02T19:57:32.129044300Z"
    }
   },
   "id": "51a3a9d57357c95b"
  },
  {
   "cell_type": "code",
   "execution_count": 128,
   "outputs": [
    {
     "data": {
      "text/plain": "              business_id  predictions_2                   name\n0  -0G_6-KFGpCpxTUlVXCMYQ       4.046982               Gio Taco\n1  -1MhPXk1FglglUAmuPLIGg       4.332225      Red Garter Saloon\n2  -3-6BB10tIWNKGEF0Es2BA       3.861684  The 81 Hong Kong Cafe\n3  -OX0MJDPRHV0RCRvwYnvBQ       4.737528             NI HAO TEA\n4  -SZ-p4o6gJPOJ--HA3NKcw       3.650388          Nimbus Bistro\n5  -TzFN6nWvbVRARY2B11Epg       4.093261            Mimi's Cafe\n6  -iGzevsRYAi990-Lt-iMoQ       3.705286               US Fries\n7  -lHpvtlMkRu0oRIXJkystA       3.806123              Bistro 44\n8  -pRU97z3uPU_M7yUf5yzMg       3.620476                Micha's\n9  -xtnwq4VBA2XFobjDGz0Ww       3.658201            Red Lobster",
      "text/html": "<div>\n<style scoped>\n    .dataframe tbody tr th:only-of-type {\n        vertical-align: middle;\n    }\n\n    .dataframe tbody tr th {\n        vertical-align: top;\n    }\n\n    .dataframe thead th {\n        text-align: right;\n    }\n</style>\n<table border=\"1\" class=\"dataframe\">\n  <thead>\n    <tr style=\"text-align: right;\">\n      <th></th>\n      <th>business_id</th>\n      <th>predictions_2</th>\n      <th>name</th>\n    </tr>\n  </thead>\n  <tbody>\n    <tr>\n      <th>0</th>\n      <td>-0G_6-KFGpCpxTUlVXCMYQ</td>\n      <td>4.046982</td>\n      <td>Gio Taco</td>\n    </tr>\n    <tr>\n      <th>1</th>\n      <td>-1MhPXk1FglglUAmuPLIGg</td>\n      <td>4.332225</td>\n      <td>Red Garter Saloon</td>\n    </tr>\n    <tr>\n      <th>2</th>\n      <td>-3-6BB10tIWNKGEF0Es2BA</td>\n      <td>3.861684</td>\n      <td>The 81 Hong Kong Cafe</td>\n    </tr>\n    <tr>\n      <th>3</th>\n      <td>-OX0MJDPRHV0RCRvwYnvBQ</td>\n      <td>4.737528</td>\n      <td>NI HAO TEA</td>\n    </tr>\n    <tr>\n      <th>4</th>\n      <td>-SZ-p4o6gJPOJ--HA3NKcw</td>\n      <td>3.650388</td>\n      <td>Nimbus Bistro</td>\n    </tr>\n    <tr>\n      <th>5</th>\n      <td>-TzFN6nWvbVRARY2B11Epg</td>\n      <td>4.093261</td>\n      <td>Mimi's Cafe</td>\n    </tr>\n    <tr>\n      <th>6</th>\n      <td>-iGzevsRYAi990-Lt-iMoQ</td>\n      <td>3.705286</td>\n      <td>US Fries</td>\n    </tr>\n    <tr>\n      <th>7</th>\n      <td>-lHpvtlMkRu0oRIXJkystA</td>\n      <td>3.806123</td>\n      <td>Bistro 44</td>\n    </tr>\n    <tr>\n      <th>8</th>\n      <td>-pRU97z3uPU_M7yUf5yzMg</td>\n      <td>3.620476</td>\n      <td>Micha's</td>\n    </tr>\n    <tr>\n      <th>9</th>\n      <td>-xtnwq4VBA2XFobjDGz0Ww</td>\n      <td>3.658201</td>\n      <td>Red Lobster</td>\n    </tr>\n  </tbody>\n</table>\n</div>"
     },
     "execution_count": 128,
     "metadata": {},
     "output_type": "execute_result"
    }
   ],
   "source": [
    "df_join=resultado.merge(df_res_bus[[\"business_id\",\"name\"]],how=\"inner\",on=\"business_id\")\n",
    "df_join.head(10)"
   ],
   "metadata": {
    "collapsed": false,
    "ExecuteTime": {
     "end_time": "2023-10-02T20:02:44.955702200Z",
     "start_time": "2023-10-02T20:02:44.877369100Z"
    }
   },
   "id": "a2fdfaea89934f20"
  },
  {
   "cell_type": "code",
   "execution_count": 129,
   "outputs": [
    {
     "data": {
      "text/plain": "                business_id  predictions_2                            name\n53   3qsHL1xuMPlPqQciHNYkeg       4.885406                          Anello\n515  jh8j-DWqgWkbRe_a2XtKFQ       4.877876                    Barrio Bread\n151  CJoO4HYD0tZRXlZqA04wmw       4.845294                Crave Coffee Bar\n90   6OwxdpajDSJi3DkMqkr2sw       4.803091              Barista Del Barrio\n637  vZlPeIEzNK2YkZhGcLxHOw       4.749477                     Queen Sheba\n..                      ...            ...                             ...\n94   6zxPHDdLUNhCSLSeHlCVNg       2.883409  Something Sweet Dessert Lounge\n475  gIIZQRP878_yceemj2bK_A       2.878393       HI FI Kitchen & Cocktails\n84   5yjHCLzwHgjKNNHgAaUC8Q       2.836659              Buffalo Wild Wings\n641  vpc5PFLMo0oJQzuNZaSlyA       2.833477          Applebee's Grill + Bar\n434  dEMsUFNB4ckBFdB90jKLEA       2.669387                      Fuku Sushi\n\n[702 rows x 3 columns]",
      "text/html": "<div>\n<style scoped>\n    .dataframe tbody tr th:only-of-type {\n        vertical-align: middle;\n    }\n\n    .dataframe tbody tr th {\n        vertical-align: top;\n    }\n\n    .dataframe thead th {\n        text-align: right;\n    }\n</style>\n<table border=\"1\" class=\"dataframe\">\n  <thead>\n    <tr style=\"text-align: right;\">\n      <th></th>\n      <th>business_id</th>\n      <th>predictions_2</th>\n      <th>name</th>\n    </tr>\n  </thead>\n  <tbody>\n    <tr>\n      <th>53</th>\n      <td>3qsHL1xuMPlPqQciHNYkeg</td>\n      <td>4.885406</td>\n      <td>Anello</td>\n    </tr>\n    <tr>\n      <th>515</th>\n      <td>jh8j-DWqgWkbRe_a2XtKFQ</td>\n      <td>4.877876</td>\n      <td>Barrio Bread</td>\n    </tr>\n    <tr>\n      <th>151</th>\n      <td>CJoO4HYD0tZRXlZqA04wmw</td>\n      <td>4.845294</td>\n      <td>Crave Coffee Bar</td>\n    </tr>\n    <tr>\n      <th>90</th>\n      <td>6OwxdpajDSJi3DkMqkr2sw</td>\n      <td>4.803091</td>\n      <td>Barista Del Barrio</td>\n    </tr>\n    <tr>\n      <th>637</th>\n      <td>vZlPeIEzNK2YkZhGcLxHOw</td>\n      <td>4.749477</td>\n      <td>Queen Sheba</td>\n    </tr>\n    <tr>\n      <th>...</th>\n      <td>...</td>\n      <td>...</td>\n      <td>...</td>\n    </tr>\n    <tr>\n      <th>94</th>\n      <td>6zxPHDdLUNhCSLSeHlCVNg</td>\n      <td>2.883409</td>\n      <td>Something Sweet Dessert Lounge</td>\n    </tr>\n    <tr>\n      <th>475</th>\n      <td>gIIZQRP878_yceemj2bK_A</td>\n      <td>2.878393</td>\n      <td>HI FI Kitchen &amp; Cocktails</td>\n    </tr>\n    <tr>\n      <th>84</th>\n      <td>5yjHCLzwHgjKNNHgAaUC8Q</td>\n      <td>2.836659</td>\n      <td>Buffalo Wild Wings</td>\n    </tr>\n    <tr>\n      <th>641</th>\n      <td>vpc5PFLMo0oJQzuNZaSlyA</td>\n      <td>2.833477</td>\n      <td>Applebee's Grill + Bar</td>\n    </tr>\n    <tr>\n      <th>434</th>\n      <td>dEMsUFNB4ckBFdB90jKLEA</td>\n      <td>2.669387</td>\n      <td>Fuku Sushi</td>\n    </tr>\n  </tbody>\n</table>\n<p>702 rows × 3 columns</p>\n</div>"
     },
     "execution_count": 129,
     "metadata": {},
     "output_type": "execute_result"
    }
   ],
   "source": [
    "df_join.sort_values(by=\"predictions_2\", ascending=False)"
   ],
   "metadata": {
    "collapsed": false,
    "ExecuteTime": {
     "end_time": "2023-10-02T20:02:52.509621400Z",
     "start_time": "2023-10-02T20:02:52.453821600Z"
    }
   },
   "id": "357eb34b24bd605f"
  },
  {
   "cell_type": "code",
   "execution_count": 145,
   "outputs": [],
   "source": [
    "eval_before_20 = eval_20.build_full_trainset()\n",
    "eval_sr_20 = eval_before_20.build_testset()\n",
    "eval_pred_20 = algo_real.test(eval_sr_20)\n",
    "\n",
    "baseline_20 = pd.DataFrame(eval_pred_20, columns = ['userId','business_id','rating','pred_rating','x'])\n",
    "predict_df_20['predictions'] = baseline_20.pred_rating"
   ],
   "metadata": {
    "collapsed": false,
    "ExecuteTime": {
     "end_time": "2023-10-02T21:17:10.618221300Z",
     "start_time": "2023-10-02T21:17:10.554533300Z"
    }
   },
   "id": "c5b706aaa74522bd"
  },
  {
   "cell_type": "code",
   "execution_count": 146,
   "outputs": [
    {
     "name": "stdout",
     "output_type": "stream",
     "text": [
      "0.0 0.48 1.0 300.8\n"
     ]
    }
   ],
   "source": [
    "top_10, coverage, serendipity, avg_rank = get_all_metrics(predict_df_20, out, reviews_train_final)"
   ],
   "metadata": {
    "collapsed": false,
    "ExecuteTime": {
     "end_time": "2023-10-02T21:17:12.144168400Z",
     "start_time": "2023-10-02T21:17:12.084520800Z"
    }
   },
   "id": "d70b399a64f1502e"
  },
  {
   "cell_type": "code",
   "execution_count": 147,
   "outputs": [
    {
     "name": "stdout",
     "output_type": "stream",
     "text": [
      "                      userId             business_id  rating  pred_rating  \\\n",
      "0     vL-7Z3rtMYLbY-L7Xd0JAw  RhuYqAT45uIR2NNdDsolXQ     2.5     3.880114   \n",
      "1     vL-7Z3rtMYLbY-L7Xd0JAw  U3aNQ5DsABPYyJQolsCbJg     2.5     4.039376   \n",
      "2     vL-7Z3rtMYLbY-L7Xd0JAw  WbA5ud4InNWkizW7HE5kRQ     2.5     3.721751   \n",
      "3     vL-7Z3rtMYLbY-L7Xd0JAw  sr5A1frZiTRediG8FLEkdw     2.5     3.050100   \n",
      "4     vL-7Z3rtMYLbY-L7Xd0JAw  AVBqx8FaXza6x-bb_FLOTQ     2.5     4.593498   \n",
      "...                      ...                     ...     ...          ...   \n",
      "3505  OblEt8M2N-zlUSgqgN0kCQ  eGi7CE2YaN6YMiGyXNi8XQ     2.5     4.172263   \n",
      "3506  OblEt8M2N-zlUSgqgN0kCQ  kbjbMffGvyjIdJivotkIiw     2.5     3.898960   \n",
      "3507  OblEt8M2N-zlUSgqgN0kCQ  f6y6grP56Rdsx0jrdnvWeA     2.5     4.502641   \n",
      "3508  OblEt8M2N-zlUSgqgN0kCQ  L7J8aZmdz_DNhEwFb3QnBQ     2.5     4.293210   \n",
      "3509  OblEt8M2N-zlUSgqgN0kCQ  gowa-c0fpgvosQnRWF9V3g     2.5     3.845129   \n",
      "\n",
      "                              x  \n",
      "0     {'was_impossible': False}  \n",
      "1     {'was_impossible': False}  \n",
      "2     {'was_impossible': False}  \n",
      "3     {'was_impossible': False}  \n",
      "4     {'was_impossible': False}  \n",
      "...                         ...  \n",
      "3505  {'was_impossible': False}  \n",
      "3506  {'was_impossible': False}  \n",
      "3507  {'was_impossible': False}  \n",
      "3508  {'was_impossible': False}  \n",
      "3509  {'was_impossible': False}  \n",
      "\n",
      "[3510 rows x 5 columns]\n"
     ]
    }
   ],
   "source": [
    "print(baseline_20)"
   ],
   "metadata": {
    "collapsed": false,
    "ExecuteTime": {
     "end_time": "2023-10-02T21:17:14.344650100Z",
     "start_time": "2023-10-02T21:17:14.314602500Z"
    }
   },
   "id": "753ab55ae27948a3"
  },
  {
   "cell_type": "code",
   "execution_count": 148,
   "outputs": [],
   "source": [
    "# Define a custom sorting key based on the rating\n",
    "def pred_rating (baseline_20):\n",
    "    return baseline_20[\"pred_rating\"]"
   ],
   "metadata": {
    "collapsed": false,
    "ExecuteTime": {
     "end_time": "2023-10-02T21:17:15.650002400Z",
     "start_time": "2023-10-02T21:17:15.570621700Z"
    }
   },
   "id": "d1c6ec08ac06a1fc"
  },
  {
   "cell_type": "code",
   "execution_count": 149,
   "outputs": [
    {
     "data": {
      "text/plain": "business_id\n3qsHL1xuMPlPqQciHNYkeg    4.885406\njh8j-DWqgWkbRe_a2XtKFQ    4.877876\nCJoO4HYD0tZRXlZqA04wmw    4.845294\n6OwxdpajDSJi3DkMqkr2sw    4.803091\nvZlPeIEzNK2YkZhGcLxHOw    4.749477\n2VPX222bhizLlWZrLQL3PQ    4.739211\n-OX0MJDPRHV0RCRvwYnvBQ    4.737528\nDVBJRvnCpkqaYl6nHroaMg    4.732952\nH5nMeiXJmLpBALeV8A-FeQ    4.732048\niKLhnstKcsUILIaOHwhJ8Q    4.717179\nName: pred_rating, dtype: float64"
     },
     "execution_count": 149,
     "metadata": {},
     "output_type": "execute_result"
    }
   ],
   "source": [
    "top10_2=baseline_20.groupby('business_id')[\"pred_rating\"].mean()\n",
    "top10_2.sort_values(ascending=False).head(10)"
   ],
   "metadata": {
    "collapsed": false,
    "ExecuteTime": {
     "end_time": "2023-10-02T21:17:15.665990300Z",
     "start_time": "2023-10-02T21:17:15.614646Z"
    }
   },
   "id": "9c0f3daf2fdf836c"
  },
  {
   "cell_type": "code",
   "execution_count": 150,
   "outputs": [
    {
     "name": "stdout",
     "output_type": "stream",
     "text": [
      "<class 'pandas.core.frame.DataFrame'>\n"
     ]
    }
   ],
   "source": [
    "resultado_2=top10_2.to_frame()\n",
    "print(type(resultado_2))"
   ],
   "metadata": {
    "collapsed": false,
    "ExecuteTime": {
     "end_time": "2023-10-02T21:17:17.494536800Z",
     "start_time": "2023-10-02T21:17:17.464379200Z"
    }
   },
   "id": "cf6241d104644cc2"
  },
  {
   "cell_type": "code",
   "execution_count": 151,
   "outputs": [
    {
     "data": {
      "text/plain": "              business_id  pred_rating                   name\n0  -0G_6-KFGpCpxTUlVXCMYQ     4.046982               Gio Taco\n1  -1MhPXk1FglglUAmuPLIGg     4.332225      Red Garter Saloon\n2  -3-6BB10tIWNKGEF0Es2BA     3.861684  The 81 Hong Kong Cafe\n3  -OX0MJDPRHV0RCRvwYnvBQ     4.737528             NI HAO TEA\n4  -SZ-p4o6gJPOJ--HA3NKcw     3.650388          Nimbus Bistro\n5  -TzFN6nWvbVRARY2B11Epg     4.093261            Mimi's Cafe\n6  -iGzevsRYAi990-Lt-iMoQ     3.705286               US Fries\n7  -lHpvtlMkRu0oRIXJkystA     3.806123              Bistro 44\n8  -pRU97z3uPU_M7yUf5yzMg     3.620476                Micha's\n9  -xtnwq4VBA2XFobjDGz0Ww     3.658201            Red Lobster",
      "text/html": "<div>\n<style scoped>\n    .dataframe tbody tr th:only-of-type {\n        vertical-align: middle;\n    }\n\n    .dataframe tbody tr th {\n        vertical-align: top;\n    }\n\n    .dataframe thead th {\n        text-align: right;\n    }\n</style>\n<table border=\"1\" class=\"dataframe\">\n  <thead>\n    <tr style=\"text-align: right;\">\n      <th></th>\n      <th>business_id</th>\n      <th>pred_rating</th>\n      <th>name</th>\n    </tr>\n  </thead>\n  <tbody>\n    <tr>\n      <th>0</th>\n      <td>-0G_6-KFGpCpxTUlVXCMYQ</td>\n      <td>4.046982</td>\n      <td>Gio Taco</td>\n    </tr>\n    <tr>\n      <th>1</th>\n      <td>-1MhPXk1FglglUAmuPLIGg</td>\n      <td>4.332225</td>\n      <td>Red Garter Saloon</td>\n    </tr>\n    <tr>\n      <th>2</th>\n      <td>-3-6BB10tIWNKGEF0Es2BA</td>\n      <td>3.861684</td>\n      <td>The 81 Hong Kong Cafe</td>\n    </tr>\n    <tr>\n      <th>3</th>\n      <td>-OX0MJDPRHV0RCRvwYnvBQ</td>\n      <td>4.737528</td>\n      <td>NI HAO TEA</td>\n    </tr>\n    <tr>\n      <th>4</th>\n      <td>-SZ-p4o6gJPOJ--HA3NKcw</td>\n      <td>3.650388</td>\n      <td>Nimbus Bistro</td>\n    </tr>\n    <tr>\n      <th>5</th>\n      <td>-TzFN6nWvbVRARY2B11Epg</td>\n      <td>4.093261</td>\n      <td>Mimi's Cafe</td>\n    </tr>\n    <tr>\n      <th>6</th>\n      <td>-iGzevsRYAi990-Lt-iMoQ</td>\n      <td>3.705286</td>\n      <td>US Fries</td>\n    </tr>\n    <tr>\n      <th>7</th>\n      <td>-lHpvtlMkRu0oRIXJkystA</td>\n      <td>3.806123</td>\n      <td>Bistro 44</td>\n    </tr>\n    <tr>\n      <th>8</th>\n      <td>-pRU97z3uPU_M7yUf5yzMg</td>\n      <td>3.620476</td>\n      <td>Micha's</td>\n    </tr>\n    <tr>\n      <th>9</th>\n      <td>-xtnwq4VBA2XFobjDGz0Ww</td>\n      <td>3.658201</td>\n      <td>Red Lobster</td>\n    </tr>\n  </tbody>\n</table>\n</div>"
     },
     "execution_count": 151,
     "metadata": {},
     "output_type": "execute_result"
    }
   ],
   "source": [
    "df_join_2=resultado_2.merge(df_res_bus[[\"business_id\",\"name\"]],how=\"inner\",on=\"business_id\")\n",
    "df_join_2.head(10)"
   ],
   "metadata": {
    "collapsed": false,
    "ExecuteTime": {
     "end_time": "2023-10-02T21:17:18.924450600Z",
     "start_time": "2023-10-02T21:17:18.894335200Z"
    }
   },
   "id": "893631b768f72d65"
  },
  {
   "cell_type": "code",
   "execution_count": 154,
   "outputs": [
    {
     "data": {
      "text/plain": "                business_id  pred_rating                            name\n53   3qsHL1xuMPlPqQciHNYkeg     4.885406                          Anello\n515  jh8j-DWqgWkbRe_a2XtKFQ     4.877876                    Barrio Bread\n151  CJoO4HYD0tZRXlZqA04wmw     4.845294                Crave Coffee Bar\n90   6OwxdpajDSJi3DkMqkr2sw     4.803091              Barista Del Barrio\n637  vZlPeIEzNK2YkZhGcLxHOw     4.749477                     Queen Sheba\n..                      ...          ...                             ...\n94   6zxPHDdLUNhCSLSeHlCVNg     2.883409  Something Sweet Dessert Lounge\n475  gIIZQRP878_yceemj2bK_A     2.878393       HI FI Kitchen & Cocktails\n84   5yjHCLzwHgjKNNHgAaUC8Q     2.836659              Buffalo Wild Wings\n641  vpc5PFLMo0oJQzuNZaSlyA     2.833477          Applebee's Grill + Bar\n434  dEMsUFNB4ckBFdB90jKLEA     2.669387                      Fuku Sushi\n\n[702 rows x 3 columns]",
      "text/html": "<div>\n<style scoped>\n    .dataframe tbody tr th:only-of-type {\n        vertical-align: middle;\n    }\n\n    .dataframe tbody tr th {\n        vertical-align: top;\n    }\n\n    .dataframe thead th {\n        text-align: right;\n    }\n</style>\n<table border=\"1\" class=\"dataframe\">\n  <thead>\n    <tr style=\"text-align: right;\">\n      <th></th>\n      <th>business_id</th>\n      <th>pred_rating</th>\n      <th>name</th>\n    </tr>\n  </thead>\n  <tbody>\n    <tr>\n      <th>53</th>\n      <td>3qsHL1xuMPlPqQciHNYkeg</td>\n      <td>4.885406</td>\n      <td>Anello</td>\n    </tr>\n    <tr>\n      <th>515</th>\n      <td>jh8j-DWqgWkbRe_a2XtKFQ</td>\n      <td>4.877876</td>\n      <td>Barrio Bread</td>\n    </tr>\n    <tr>\n      <th>151</th>\n      <td>CJoO4HYD0tZRXlZqA04wmw</td>\n      <td>4.845294</td>\n      <td>Crave Coffee Bar</td>\n    </tr>\n    <tr>\n      <th>90</th>\n      <td>6OwxdpajDSJi3DkMqkr2sw</td>\n      <td>4.803091</td>\n      <td>Barista Del Barrio</td>\n    </tr>\n    <tr>\n      <th>637</th>\n      <td>vZlPeIEzNK2YkZhGcLxHOw</td>\n      <td>4.749477</td>\n      <td>Queen Sheba</td>\n    </tr>\n    <tr>\n      <th>...</th>\n      <td>...</td>\n      <td>...</td>\n      <td>...</td>\n    </tr>\n    <tr>\n      <th>94</th>\n      <td>6zxPHDdLUNhCSLSeHlCVNg</td>\n      <td>2.883409</td>\n      <td>Something Sweet Dessert Lounge</td>\n    </tr>\n    <tr>\n      <th>475</th>\n      <td>gIIZQRP878_yceemj2bK_A</td>\n      <td>2.878393</td>\n      <td>HI FI Kitchen &amp; Cocktails</td>\n    </tr>\n    <tr>\n      <th>84</th>\n      <td>5yjHCLzwHgjKNNHgAaUC8Q</td>\n      <td>2.836659</td>\n      <td>Buffalo Wild Wings</td>\n    </tr>\n    <tr>\n      <th>641</th>\n      <td>vpc5PFLMo0oJQzuNZaSlyA</td>\n      <td>2.833477</td>\n      <td>Applebee's Grill + Bar</td>\n    </tr>\n    <tr>\n      <th>434</th>\n      <td>dEMsUFNB4ckBFdB90jKLEA</td>\n      <td>2.669387</td>\n      <td>Fuku Sushi</td>\n    </tr>\n  </tbody>\n</table>\n<p>702 rows × 3 columns</p>\n</div>"
     },
     "execution_count": 154,
     "metadata": {},
     "output_type": "execute_result"
    }
   ],
   "source": [
    "df_join_2.sort_values(by=\"pred_rating\", ascending=False)"
   ],
   "metadata": {
    "collapsed": false,
    "ExecuteTime": {
     "end_time": "2023-10-02T21:17:44.705946500Z",
     "start_time": "2023-10-02T21:17:44.660581100Z"
    }
   },
   "id": "8a2eabd3f17ab1af"
  },
  {
   "cell_type": "code",
   "execution_count": null,
   "outputs": [],
   "source": [],
   "metadata": {
    "collapsed": false
   },
   "id": "5e2d46d7c32bbb2a"
  }
 ],
 "metadata": {
  "kernelspec": {
   "display_name": "Python 3",
   "language": "python",
   "name": "python3"
  },
  "language_info": {
   "codemirror_mode": {
    "name": "ipython",
    "version": 2
   },
   "file_extension": ".py",
   "mimetype": "text/x-python",
   "name": "python",
   "nbconvert_exporter": "python",
   "pygments_lexer": "ipython2",
   "version": "2.7.6"
  }
 },
 "nbformat": 4,
 "nbformat_minor": 5
}
